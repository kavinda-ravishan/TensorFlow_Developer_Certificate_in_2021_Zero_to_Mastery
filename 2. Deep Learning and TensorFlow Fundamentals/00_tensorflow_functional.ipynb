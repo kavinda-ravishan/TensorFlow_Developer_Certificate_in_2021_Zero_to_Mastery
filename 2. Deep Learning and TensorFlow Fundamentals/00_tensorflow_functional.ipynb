{
    "cells": [
        {
            "cell_type": "markdown",
            "source": [
                "---\r\n",
                "# ***Introduction to tensors***\r\n",
                "---"
            ],
            "metadata": {}
        },
        {
            "cell_type": "markdown",
            "source": [
                "## Importing Tensorflow"
            ],
            "metadata": {}
        },
        {
            "cell_type": "code",
            "execution_count": 1,
            "source": [
                "import tensorflow as tf"
            ],
            "outputs": [],
            "metadata": {}
        },
        {
            "cell_type": "code",
            "execution_count": 3,
            "source": [
                "print(tf.__version__)"
            ],
            "outputs": [
                {
                    "output_type": "stream",
                    "name": "stdout",
                    "text": [
                        "2.5.0\n"
                    ]
                }
            ],
            "metadata": {}
        },
        {
            "cell_type": "markdown",
            "source": [
                "## Create tensors with `tf.constant()`"
            ],
            "metadata": {}
        },
        {
            "cell_type": "code",
            "execution_count": null,
            "source": [
                "scalar = tf.constant(7)\r\n",
                "scalar"
            ],
            "outputs": [
                {
                    "output_type": "execute_result",
                    "data": {
                        "text/plain": [
                            "<tf.Tensor: shape=(), dtype=int32, numpy=7>"
                        ]
                    },
                    "metadata": {},
                    "execution_count": 3
                }
            ],
            "metadata": {}
        },
        {
            "cell_type": "markdown",
            "source": [
                "### Check number of dimensions"
            ],
            "metadata": {}
        },
        {
            "cell_type": "code",
            "execution_count": null,
            "source": [
                "scalar.ndim"
            ],
            "outputs": [
                {
                    "output_type": "execute_result",
                    "data": {
                        "text/plain": [
                            "0"
                        ]
                    },
                    "metadata": {},
                    "execution_count": 4
                }
            ],
            "metadata": {}
        },
        {
            "cell_type": "code",
            "execution_count": null,
            "source": [
                "vector = tf.constant([10, 10])\r\n",
                "vector, vector.ndim"
            ],
            "outputs": [
                {
                    "output_type": "execute_result",
                    "data": {
                        "text/plain": [
                            "(<tf.Tensor: shape=(2,), dtype=int32, numpy=array([10, 10])>, 1)"
                        ]
                    },
                    "metadata": {},
                    "execution_count": 5
                }
            ],
            "metadata": {}
        },
        {
            "cell_type": "code",
            "execution_count": null,
            "source": [
                "matrix = tf.constant(\r\n",
                "    [\r\n",
                "        [1, 2],\r\n",
                "        [3, 4]\r\n",
                "    ]\r\n",
                ")\r\n",
                "matrix, f'ndim = {matrix.ndim}'"
            ],
            "outputs": [
                {
                    "output_type": "execute_result",
                    "data": {
                        "text/plain": [
                            "(<tf.Tensor: shape=(2, 2), dtype=int32, numpy=\n",
                            " array([[1, 2],\n",
                            "        [3, 4]])>,\n",
                            " 'ndim = 2')"
                        ]
                    },
                    "metadata": {},
                    "execution_count": 6
                }
            ],
            "metadata": {}
        },
        {
            "cell_type": "markdown",
            "source": [
                "### Data type"
            ],
            "metadata": {}
        },
        {
            "cell_type": "code",
            "execution_count": null,
            "source": [
                "matrix2 = tf.constant(\r\n",
                "    [\r\n",
                "        [1.1, 2.],\r\n",
                "        [3, 4.12],\r\n",
                "        [5, 6]\r\n",
                "    ],\r\n",
                "    dtype=tf.float16\r\n",
                ")\r\n",
                "matrix2, f'ndim = {matrix2.ndim}'"
            ],
            "outputs": [
                {
                    "output_type": "execute_result",
                    "data": {
                        "text/plain": [
                            "(<tf.Tensor: shape=(3, 2), dtype=float16, numpy=\n",
                            " array([[1.1 , 2.  ],\n",
                            "        [3.  , 4.12],\n",
                            "        [5.  , 6.  ]], dtype=float16)>,\n",
                            " 'ndim = 2')"
                        ]
                    },
                    "metadata": {},
                    "execution_count": 7
                }
            ],
            "metadata": {}
        },
        {
            "cell_type": "code",
            "execution_count": null,
            "source": [
                "tensor = tf.constant(\r\n",
                "    [\r\n",
                "        [\r\n",
                "            [1, 2, 3],\r\n",
                "            [4, 5, 6]\r\n",
                "        ],\r\n",
                "        [\r\n",
                "            [7, 8, 9],\r\n",
                "            [10, 11, 12]\r\n",
                "        ],\r\n",
                "        [\r\n",
                "            [13, 14, 15],\r\n",
                "            [16, 17, 18]\r\n",
                "        ]\r\n",
                "    ]\r\n",
                ")\r\n",
                "tensor, f'ndim = {tensor.ndim}'"
            ],
            "outputs": [
                {
                    "output_type": "execute_result",
                    "data": {
                        "text/plain": [
                            "(<tf.Tensor: shape=(3, 2, 3), dtype=int32, numpy=\n",
                            " array([[[ 1,  2,  3],\n",
                            "         [ 4,  5,  6]],\n",
                            " \n",
                            "        [[ 7,  8,  9],\n",
                            "         [10, 11, 12]],\n",
                            " \n",
                            "        [[13, 14, 15],\n",
                            "         [16, 17, 18]]])>,\n",
                            " 'ndim = 3')"
                        ]
                    },
                    "metadata": {},
                    "execution_count": 8
                }
            ],
            "metadata": {}
        },
        {
            "cell_type": "markdown",
            "source": [
                "`All above are tensors (scalars, vectors, matrices)`"
            ],
            "metadata": {}
        },
        {
            "cell_type": "markdown",
            "source": [
                "`Tensors can be n-dimensional`"
            ],
            "metadata": {}
        },
        {
            "cell_type": "markdown",
            "source": [
                "## Create tensors with `tf.Variable()`"
            ],
            "metadata": {}
        },
        {
            "cell_type": "code",
            "execution_count": null,
            "source": [
                "changeable_tensor = tf.Variable([10, 7])\r\n",
                "unchangeable_tensor = tf.constant([10, 7])\r\n",
                "\r\n",
                "changeable_tensor, unchangeable_tensor"
            ],
            "outputs": [
                {
                    "output_type": "execute_result",
                    "data": {
                        "text/plain": [
                            "(<tf.Variable 'Variable:0' shape=(2,) dtype=int32, numpy=array([10,  7])>,\n",
                            " <tf.Tensor: shape=(2,), dtype=int32, numpy=array([10,  7])>)"
                        ]
                    },
                    "metadata": {},
                    "execution_count": 9
                }
            ],
            "metadata": {}
        },
        {
            "cell_type": "code",
            "execution_count": null,
            "source": [
                "changeable_tensor[0], unchangeable_tensor[0]"
            ],
            "outputs": [
                {
                    "output_type": "execute_result",
                    "data": {
                        "text/plain": [
                            "(<tf.Tensor: shape=(), dtype=int32, numpy=10>,\n",
                            " <tf.Tensor: shape=(), dtype=int32, numpy=10>)"
                        ]
                    },
                    "metadata": {},
                    "execution_count": 10
                }
            ],
            "metadata": {}
        },
        {
            "cell_type": "code",
            "execution_count": null,
            "source": [
                "changeable_tensor[0] = 7\r\n",
                "changeable_tensor"
            ],
            "outputs": [
                {
                    "output_type": "error",
                    "ename": "TypeError",
                    "evalue": "'ResourceVariable' object does not support item assignment",
                    "traceback": [
                        "\u001b[1;31m---------------------------------------------------------------------------\u001b[0m",
                        "\u001b[1;31mTypeError\u001b[0m                                 Traceback (most recent call last)",
                        "\u001b[1;32m<ipython-input-11-8c21e5bd554c>\u001b[0m in \u001b[0;36m<module>\u001b[1;34m\u001b[0m\n\u001b[1;32m----> 1\u001b[1;33m \u001b[0mchangeable_tensor\u001b[0m\u001b[1;33m[\u001b[0m\u001b[1;36m0\u001b[0m\u001b[1;33m]\u001b[0m \u001b[1;33m=\u001b[0m \u001b[1;36m7\u001b[0m\u001b[1;33m\u001b[0m\u001b[1;33m\u001b[0m\u001b[0m\n\u001b[0m\u001b[0;32m      2\u001b[0m \u001b[0mchangeable_tensor\u001b[0m\u001b[1;33m\u001b[0m\u001b[1;33m\u001b[0m\u001b[0m\n",
                        "\u001b[1;31mTypeError\u001b[0m: 'ResourceVariable' object does not support item assignment"
                    ]
                }
            ],
            "metadata": {}
        },
        {
            "cell_type": "code",
            "execution_count": null,
            "source": [
                "unchangeable_tensor[0] = 7\r\n",
                "unchangeable_tensor"
            ],
            "outputs": [
                {
                    "output_type": "error",
                    "ename": "TypeError",
                    "evalue": "'tensorflow.python.framework.ops.EagerTensor' object does not support item assignment",
                    "traceback": [
                        "\u001b[1;31m---------------------------------------------------------------------------\u001b[0m",
                        "\u001b[1;31mTypeError\u001b[0m                                 Traceback (most recent call last)",
                        "\u001b[1;32m<ipython-input-12-899a5ed5178f>\u001b[0m in \u001b[0;36m<module>\u001b[1;34m\u001b[0m\n\u001b[1;32m----> 1\u001b[1;33m \u001b[0munchangeable_tensor\u001b[0m\u001b[1;33m[\u001b[0m\u001b[1;36m0\u001b[0m\u001b[1;33m]\u001b[0m \u001b[1;33m=\u001b[0m \u001b[1;36m7\u001b[0m\u001b[1;33m\u001b[0m\u001b[1;33m\u001b[0m\u001b[0m\n\u001b[0m\u001b[0;32m      2\u001b[0m \u001b[0munchangeable_tensor\u001b[0m\u001b[1;33m\u001b[0m\u001b[1;33m\u001b[0m\u001b[0m\n",
                        "\u001b[1;31mTypeError\u001b[0m: 'tensorflow.python.framework.ops.EagerTensor' object does not support item assignment"
                    ]
                }
            ],
            "metadata": {}
        },
        {
            "cell_type": "code",
            "execution_count": null,
            "source": [
                "changeable_tensor[0].assign(7)\r\n",
                "changeable_tensor"
            ],
            "outputs": [
                {
                    "output_type": "execute_result",
                    "data": {
                        "text/plain": [
                            "<tf.Variable 'Variable:0' shape=(2,) dtype=int32, numpy=array([7, 7])>"
                        ]
                    },
                    "metadata": {},
                    "execution_count": 13
                }
            ],
            "metadata": {}
        },
        {
            "cell_type": "code",
            "execution_count": null,
            "source": [
                "unchangeable_tensor[0].assign(7)\r\n",
                "unchangeable_tensor"
            ],
            "outputs": [
                {
                    "output_type": "error",
                    "ename": "AttributeError",
                    "evalue": "'tensorflow.python.framework.ops.EagerTensor' object has no attribute 'assign'",
                    "traceback": [
                        "\u001b[1;31m---------------------------------------------------------------------------\u001b[0m",
                        "\u001b[1;31mAttributeError\u001b[0m                            Traceback (most recent call last)",
                        "\u001b[1;32m<ipython-input-14-018d4e5d371d>\u001b[0m in \u001b[0;36m<module>\u001b[1;34m\u001b[0m\n\u001b[1;32m----> 1\u001b[1;33m \u001b[0munchangeable_tensor\u001b[0m\u001b[1;33m[\u001b[0m\u001b[1;36m0\u001b[0m\u001b[1;33m]\u001b[0m\u001b[1;33m.\u001b[0m\u001b[0massign\u001b[0m\u001b[1;33m(\u001b[0m\u001b[1;36m7\u001b[0m\u001b[1;33m)\u001b[0m\u001b[1;33m\u001b[0m\u001b[1;33m\u001b[0m\u001b[0m\n\u001b[0m\u001b[0;32m      2\u001b[0m \u001b[0munchangeable_tensor\u001b[0m\u001b[1;33m\u001b[0m\u001b[1;33m\u001b[0m\u001b[0m\n",
                        "\u001b[1;32m~\\anaconda3\\lib\\site-packages\\tensorflow\\python\\framework\\ops.py\u001b[0m in \u001b[0;36m__getattr__\u001b[1;34m(self, name)\u001b[0m\n\u001b[0;32m    399\u001b[0m         \u001b[1;32mimport\u001b[0m \u001b[0mtensorflow\u001b[0m\u001b[1;33m.\u001b[0m\u001b[0mpython\u001b[0m\u001b[1;33m.\u001b[0m\u001b[0mops\u001b[0m\u001b[1;33m.\u001b[0m\u001b[0mnumpy_ops\u001b[0m\u001b[1;33m.\u001b[0m\u001b[0mnp_config\u001b[0m\u001b[1;33m\u001b[0m\u001b[1;33m\u001b[0m\u001b[0m\n\u001b[0;32m    400\u001b[0m         np_config.enable_numpy_behavior()\"\"\".format(type(self).__name__, name))\n\u001b[1;32m--> 401\u001b[1;33m     \u001b[0mself\u001b[0m\u001b[1;33m.\u001b[0m\u001b[0m__getattribute__\u001b[0m\u001b[1;33m(\u001b[0m\u001b[0mname\u001b[0m\u001b[1;33m)\u001b[0m\u001b[1;33m\u001b[0m\u001b[1;33m\u001b[0m\u001b[0m\n\u001b[0m\u001b[0;32m    402\u001b[0m \u001b[1;33m\u001b[0m\u001b[0m\n\u001b[0;32m    403\u001b[0m   \u001b[1;33m@\u001b[0m\u001b[0mstaticmethod\u001b[0m\u001b[1;33m\u001b[0m\u001b[1;33m\u001b[0m\u001b[0m\n",
                        "\u001b[1;31mAttributeError\u001b[0m: 'tensorflow.python.framework.ops.EagerTensor' object has no attribute 'assign'"
                    ]
                }
            ],
            "metadata": {}
        },
        {
            "cell_type": "markdown",
            "source": [
                "## Creating random tensors"
            ],
            "metadata": {}
        },
        {
            "cell_type": "code",
            "execution_count": null,
            "source": [
                "# Create two random (but same) tensors\r\n",
                "random_1 = tf.random.Generator.from_seed(42)\r\n",
                "random_1 = random_1.normal(shape=(3,2))\r\n",
                "random_2 = tf.random.Generator.from_seed(42)\r\n",
                "random_2 = random_2.normal(shape=(3,2))\r\n",
                "random_1, random_2, random_1 == random_2"
            ],
            "outputs": [
                {
                    "output_type": "execute_result",
                    "data": {
                        "text/plain": [
                            "(<tf.Tensor: shape=(3, 2), dtype=float32, numpy=\n",
                            " array([[-0.7565803 , -0.06854702],\n",
                            "        [ 0.07595026, -1.2573844 ],\n",
                            "        [-0.23193763, -1.8107855 ]], dtype=float32)>,\n",
                            " <tf.Tensor: shape=(3, 2), dtype=float32, numpy=\n",
                            " array([[-0.7565803 , -0.06854702],\n",
                            "        [ 0.07595026, -1.2573844 ],\n",
                            "        [-0.23193763, -1.8107855 ]], dtype=float32)>,\n",
                            " <tf.Tensor: shape=(3, 2), dtype=bool, numpy=\n",
                            " array([[ True,  True],\n",
                            "        [ True,  True],\n",
                            "        [ True,  True]])>)"
                        ]
                    },
                    "metadata": {},
                    "execution_count": 3
                }
            ],
            "metadata": {}
        },
        {
            "cell_type": "markdown",
            "source": [
                "## Shuffling the order of tensors"
            ],
            "metadata": {}
        },
        {
            "cell_type": "code",
            "execution_count": 4,
            "source": [
                "not_shuffled = tf.constant(\r\n",
                "    [\r\n",
                "        [10, 7],\r\n",
                "        [3, 4],\r\n",
                "        [2, 5]\r\n",
                "    ]\r\n",
                ")\r\n",
                "not_shuffled"
            ],
            "outputs": [
                {
                    "output_type": "execute_result",
                    "data": {
                        "text/plain": [
                            "<tf.Tensor: shape=(3, 2), dtype=int32, numpy=\n",
                            "array([[10,  7],\n",
                            "       [ 3,  4],\n",
                            "       [ 2,  5]])>"
                        ]
                    },
                    "metadata": {},
                    "execution_count": 4
                }
            ],
            "metadata": {}
        },
        {
            "cell_type": "code",
            "execution_count": 8,
            "source": [
                "tf.random.shuffle(not_shuffled, seed=42)"
            ],
            "outputs": [
                {
                    "output_type": "execute_result",
                    "data": {
                        "text/plain": [
                            "<tf.Tensor: shape=(3, 2), dtype=int32, numpy=\n",
                            "array([[ 2,  5],\n",
                            "       [10,  7],\n",
                            "       [ 3,  4]])>"
                        ]
                    },
                    "metadata": {},
                    "execution_count": 8
                }
            ],
            "metadata": {}
        },
        {
            "cell_type": "code",
            "execution_count": 18,
            "source": [
                "tf.random.shuffle(not_shuffled, seed=42)"
            ],
            "outputs": [
                {
                    "output_type": "execute_result",
                    "data": {
                        "text/plain": [
                            "<tf.Tensor: shape=(3, 2), dtype=int32, numpy=\n",
                            "array([[ 2,  5],\n",
                            "       [ 3,  4],\n",
                            "       [10,  7]])>"
                        ]
                    },
                    "metadata": {},
                    "execution_count": 18
                }
            ],
            "metadata": {}
        },
        {
            "cell_type": "code",
            "execution_count": 5,
            "source": [
                "tf.random.set_seed(42) # global seed\r\n",
                "tf.random.shuffle(not_shuffled, seed=42) # operation-level seeds"
            ],
            "outputs": [
                {
                    "output_type": "execute_result",
                    "data": {
                        "text/plain": [
                            "<tf.Tensor: shape=(3, 2), dtype=int32, numpy=\n",
                            "array([[10,  7],\n",
                            "       [ 3,  4],\n",
                            "       [ 2,  5]])>"
                        ]
                    },
                    "metadata": {},
                    "execution_count": 5
                }
            ],
            "metadata": {}
        },
        {
            "cell_type": "code",
            "execution_count": 6,
            "source": [
                "tf.random.set_seed(42) # global seed\r\n",
                "tf.random.shuffle(not_shuffled, seed=42) # operation-level seeds"
            ],
            "outputs": [
                {
                    "output_type": "execute_result",
                    "data": {
                        "text/plain": [
                            "<tf.Tensor: shape=(3, 2), dtype=int32, numpy=\n",
                            "array([[10,  7],\n",
                            "       [ 3,  4],\n",
                            "       [ 2,  5]])>"
                        ]
                    },
                    "metadata": {},
                    "execution_count": 6
                }
            ],
            "metadata": {}
        },
        {
            "cell_type": "markdown",
            "source": [
                "### `https://www.tensorflow.org/api_docs/python/tf/random/set_seed`"
            ],
            "metadata": {}
        },
        {
            "cell_type": "markdown",
            "source": [
                "## Creating tensors from NumPy arrays"
            ],
            "metadata": {}
        },
        {
            "cell_type": "markdown",
            "source": [
                "### Ones and Zeros"
            ],
            "metadata": {}
        },
        {
            "cell_type": "code",
            "execution_count": 25,
            "source": [
                "tf.ones([5, 7], dtype=tf.int16)"
            ],
            "outputs": [
                {
                    "output_type": "execute_result",
                    "data": {
                        "text/plain": [
                            "<tf.Tensor: shape=(5, 7), dtype=int16, numpy=\n",
                            "array([[1, 1, 1, 1, 1, 1, 1],\n",
                            "       [1, 1, 1, 1, 1, 1, 1],\n",
                            "       [1, 1, 1, 1, 1, 1, 1],\n",
                            "       [1, 1, 1, 1, 1, 1, 1],\n",
                            "       [1, 1, 1, 1, 1, 1, 1]], dtype=int16)>"
                        ]
                    },
                    "metadata": {},
                    "execution_count": 25
                }
            ],
            "metadata": {}
        },
        {
            "cell_type": "code",
            "execution_count": 28,
            "source": [
                "tf.zeros(shape=(5, 7))"
            ],
            "outputs": [
                {
                    "output_type": "execute_result",
                    "data": {
                        "text/plain": [
                            "<tf.Tensor: shape=(5, 7), dtype=float32, numpy=\n",
                            "array([[0., 0., 0., 0., 0., 0., 0.],\n",
                            "       [0., 0., 0., 0., 0., 0., 0.],\n",
                            "       [0., 0., 0., 0., 0., 0., 0.],\n",
                            "       [0., 0., 0., 0., 0., 0., 0.],\n",
                            "       [0., 0., 0., 0., 0., 0., 0.]], dtype=float32)>"
                        ]
                    },
                    "metadata": {},
                    "execution_count": 28
                }
            ],
            "metadata": {}
        },
        {
            "cell_type": "markdown",
            "source": [
                "### NumPy to Tensor"
            ],
            "metadata": {}
        },
        {
            "cell_type": "markdown",
            "source": [
                "#### The main difference between NumPy arrays and TensorFIow tensors is that tensors can be run on a GPU (much faster for numerical computing)"
            ],
            "metadata": {}
        },
        {
            "cell_type": "code",
            "execution_count": 29,
            "source": [
                "import numpy as np"
            ],
            "outputs": [],
            "metadata": {}
        },
        {
            "cell_type": "code",
            "execution_count": 30,
            "source": [
                "numpy_A = np.arange(1, 25, dtype=np.int32)\r\n",
                "numpy_A"
            ],
            "outputs": [
                {
                    "output_type": "execute_result",
                    "data": {
                        "text/plain": [
                            "array([ 1,  2,  3,  4,  5,  6,  7,  8,  9, 10, 11, 12, 13, 14, 15, 16, 17,\n",
                            "       18, 19, 20, 21, 22, 23, 24])"
                        ]
                    },
                    "metadata": {},
                    "execution_count": 30
                }
            ],
            "metadata": {}
        },
        {
            "cell_type": "code",
            "execution_count": 40,
            "source": [
                "A = tf.constant(numpy_A)\r\n",
                "A"
            ],
            "outputs": [
                {
                    "output_type": "execute_result",
                    "data": {
                        "text/plain": [
                            "<tf.Tensor: shape=(24,), dtype=int32, numpy=\n",
                            "array([ 1,  2,  3,  4,  5,  6,  7,  8,  9, 10, 11, 12, 13, 14, 15, 16, 17,\n",
                            "       18, 19, 20, 21, 22, 23, 24])>"
                        ]
                    },
                    "metadata": {},
                    "execution_count": 40
                }
            ],
            "metadata": {}
        },
        {
            "cell_type": "code",
            "execution_count": 42,
            "source": [
                "2 * 3 * 4"
            ],
            "outputs": [
                {
                    "output_type": "execute_result",
                    "data": {
                        "text/plain": [
                            "24"
                        ]
                    },
                    "metadata": {},
                    "execution_count": 42
                }
            ],
            "metadata": {}
        },
        {
            "cell_type": "code",
            "execution_count": 43,
            "source": [
                "A = tf.constant(numpy_A, shape=(2,3,4))\r\n",
                "A"
            ],
            "outputs": [
                {
                    "output_type": "execute_result",
                    "data": {
                        "text/plain": [
                            "<tf.Tensor: shape=(2, 3, 4), dtype=int32, numpy=\n",
                            "array([[[ 1,  2,  3,  4],\n",
                            "        [ 5,  6,  7,  8],\n",
                            "        [ 9, 10, 11, 12]],\n",
                            "\n",
                            "       [[13, 14, 15, 16],\n",
                            "        [17, 18, 19, 20],\n",
                            "        [21, 22, 23, 24]]])>"
                        ]
                    },
                    "metadata": {},
                    "execution_count": 43
                }
            ],
            "metadata": {}
        },
        {
            "cell_type": "code",
            "execution_count": 44,
            "source": [
                "A.ndim"
            ],
            "outputs": [
                {
                    "output_type": "execute_result",
                    "data": {
                        "text/plain": [
                            "3"
                        ]
                    },
                    "metadata": {},
                    "execution_count": 44
                }
            ],
            "metadata": {}
        },
        {
            "cell_type": "markdown",
            "source": [
                "## Getting information from your tensors (tensor attributes)"
            ],
            "metadata": {}
        },
        {
            "cell_type": "code",
            "execution_count": 2,
            "source": [
                "rank_4_tensor = tf.zeros(shape=(2,3,4,5))\r\n",
                "rank_4_tensor"
            ],
            "outputs": [
                {
                    "output_type": "execute_result",
                    "data": {
                        "text/plain": [
                            "<tf.Tensor: shape=(2, 3, 4, 5), dtype=float32, numpy=\n",
                            "array([[[[0., 0., 0., 0., 0.],\n",
                            "         [0., 0., 0., 0., 0.],\n",
                            "         [0., 0., 0., 0., 0.],\n",
                            "         [0., 0., 0., 0., 0.]],\n",
                            "\n",
                            "        [[0., 0., 0., 0., 0.],\n",
                            "         [0., 0., 0., 0., 0.],\n",
                            "         [0., 0., 0., 0., 0.],\n",
                            "         [0., 0., 0., 0., 0.]],\n",
                            "\n",
                            "        [[0., 0., 0., 0., 0.],\n",
                            "         [0., 0., 0., 0., 0.],\n",
                            "         [0., 0., 0., 0., 0.],\n",
                            "         [0., 0., 0., 0., 0.]]],\n",
                            "\n",
                            "\n",
                            "       [[[0., 0., 0., 0., 0.],\n",
                            "         [0., 0., 0., 0., 0.],\n",
                            "         [0., 0., 0., 0., 0.],\n",
                            "         [0., 0., 0., 0., 0.]],\n",
                            "\n",
                            "        [[0., 0., 0., 0., 0.],\n",
                            "         [0., 0., 0., 0., 0.],\n",
                            "         [0., 0., 0., 0., 0.],\n",
                            "         [0., 0., 0., 0., 0.]],\n",
                            "\n",
                            "        [[0., 0., 0., 0., 0.],\n",
                            "         [0., 0., 0., 0., 0.],\n",
                            "         [0., 0., 0., 0., 0.],\n",
                            "         [0., 0., 0., 0., 0.]]]], dtype=float32)>"
                        ]
                    },
                    "metadata": {},
                    "execution_count": 2
                }
            ],
            "metadata": {}
        },
        {
            "cell_type": "code",
            "execution_count": 3,
            "source": [
                "rank_4_tensor[0]"
            ],
            "outputs": [
                {
                    "output_type": "execute_result",
                    "data": {
                        "text/plain": [
                            "<tf.Tensor: shape=(3, 4, 5), dtype=float32, numpy=\n",
                            "array([[[0., 0., 0., 0., 0.],\n",
                            "        [0., 0., 0., 0., 0.],\n",
                            "        [0., 0., 0., 0., 0.],\n",
                            "        [0., 0., 0., 0., 0.]],\n",
                            "\n",
                            "       [[0., 0., 0., 0., 0.],\n",
                            "        [0., 0., 0., 0., 0.],\n",
                            "        [0., 0., 0., 0., 0.],\n",
                            "        [0., 0., 0., 0., 0.]],\n",
                            "\n",
                            "       [[0., 0., 0., 0., 0.],\n",
                            "        [0., 0., 0., 0., 0.],\n",
                            "        [0., 0., 0., 0., 0.],\n",
                            "        [0., 0., 0., 0., 0.]]], dtype=float32)>"
                        ]
                    },
                    "metadata": {},
                    "execution_count": 3
                }
            ],
            "metadata": {}
        },
        {
            "cell_type": "code",
            "execution_count": 4,
            "source": [
                "print(f'Shape : {rank_4_tensor.shape}\\nRank or number of dimensions : {rank_4_tensor.ndim}\\nSize : {tf.size(rank_4_tensor)}\\nData type : {rank_4_tensor.dtype}')"
            ],
            "outputs": [
                {
                    "output_type": "stream",
                    "name": "stdout",
                    "text": [
                        "Shape : (2, 3, 4, 5)\n",
                        "Rank or number of dimensions : 4\n",
                        "Size : 120\n",
                        "Data type : <dtype: 'float32'>\n"
                    ]
                }
            ],
            "metadata": {}
        },
        {
            "cell_type": "code",
            "execution_count": 5,
            "source": [
                "print(f'Elements along the 0 axix : {rank_4_tensor.shape[0]}')\r\n",
                "print(f'Elements along the last axix : {rank_4_tensor.shape[-1]}')"
            ],
            "outputs": [
                {
                    "output_type": "stream",
                    "name": "stdout",
                    "text": [
                        "Elements along the 0 axix : 2\n",
                        "Elements along the last axix : 5\n"
                    ]
                }
            ],
            "metadata": {}
        },
        {
            "cell_type": "markdown",
            "source": [
                "## Indexing and expanding tensors"
            ],
            "metadata": {}
        },
        {
            "cell_type": "markdown",
            "source": [
                "### Get the first two elements of each dimensions "
            ],
            "metadata": {}
        },
        {
            "cell_type": "code",
            "execution_count": 9,
            "source": [
                "some_list = [1, 2, 3, 4, 5]\r\n",
                "some_list[:2]"
            ],
            "outputs": [
                {
                    "output_type": "execute_result",
                    "data": {
                        "text/plain": [
                            "[1, 2]"
                        ]
                    },
                    "metadata": {},
                    "execution_count": 9
                }
            ],
            "metadata": {}
        },
        {
            "cell_type": "code",
            "execution_count": 7,
            "source": [
                "rank_4_tensor[:2,:2,:2,:2]"
            ],
            "outputs": [
                {
                    "output_type": "execute_result",
                    "data": {
                        "text/plain": [
                            "<tf.Tensor: shape=(2, 2, 2, 2), dtype=float32, numpy=\n",
                            "array([[[[0., 0.],\n",
                            "         [0., 0.]],\n",
                            "\n",
                            "        [[0., 0.],\n",
                            "         [0., 0.]]],\n",
                            "\n",
                            "\n",
                            "       [[[0., 0.],\n",
                            "         [0., 0.]],\n",
                            "\n",
                            "        [[0., 0.],\n",
                            "         [0., 0.]]]], dtype=float32)>"
                        ]
                    },
                    "metadata": {},
                    "execution_count": 7
                }
            ],
            "metadata": {}
        },
        {
            "cell_type": "markdown",
            "source": [
                "### Get the first element form each dimension from each index except for the final one"
            ],
            "metadata": {}
        },
        {
            "cell_type": "code",
            "execution_count": 17,
            "source": [
                "rank_4_tensor[:1,:1,:1,:]"
            ],
            "outputs": [
                {
                    "output_type": "execute_result",
                    "data": {
                        "text/plain": [
                            "<tf.Tensor: shape=(1, 1, 1, 5), dtype=float32, numpy=array([[[[0., 0., 0., 0., 0.]]]], dtype=float32)>"
                        ]
                    },
                    "metadata": {},
                    "execution_count": 17
                }
            ],
            "metadata": {}
        },
        {
            "cell_type": "code",
            "execution_count": 19,
            "source": [
                "rank_2_tensor = tf.constant(\r\n",
                "    [\r\n",
                "        [3, 7],\r\n",
                "        [10, 4]\r\n",
                "    ]\r\n",
                ")\r\n",
                "rank_2_tensor"
            ],
            "outputs": [
                {
                    "output_type": "execute_result",
                    "data": {
                        "text/plain": [
                            "<tf.Tensor: shape=(2, 2), dtype=int32, numpy=\n",
                            "array([[ 3,  7],\n",
                            "       [10,  4]])>"
                        ]
                    },
                    "metadata": {},
                    "execution_count": 19
                }
            ],
            "metadata": {}
        },
        {
            "cell_type": "markdown",
            "source": [
                "### Get the last item of each of row"
            ],
            "metadata": {}
        },
        {
            "cell_type": "code",
            "execution_count": 22,
            "source": [
                "rank_2_tensor[:,-1:], rank_2_tensor[:,-1]"
            ],
            "outputs": [
                {
                    "output_type": "execute_result",
                    "data": {
                        "text/plain": [
                            "(<tf.Tensor: shape=(2, 1), dtype=int32, numpy=\n",
                            " array([[7],\n",
                            "        [4]])>,\n",
                            " <tf.Tensor: shape=(2,), dtype=int32, numpy=array([7, 4])>)"
                        ]
                    },
                    "metadata": {},
                    "execution_count": 22
                }
            ],
            "metadata": {}
        },
        {
            "cell_type": "markdown",
            "source": [
                "### Add in extra dimension"
            ],
            "metadata": {}
        },
        {
            "cell_type": "code",
            "execution_count": 29,
            "source": [
                "rank_2_tensor[...], rank_2_tensor[:, :]"
            ],
            "outputs": [
                {
                    "output_type": "execute_result",
                    "data": {
                        "text/plain": [
                            "(<tf.Tensor: shape=(2, 2), dtype=int32, numpy=\n",
                            " array([[ 3,  7],\n",
                            "        [10,  4]])>,\n",
                            " <tf.Tensor: shape=(2, 2), dtype=int32, numpy=\n",
                            " array([[ 3,  7],\n",
                            "        [10,  4]])>)"
                        ]
                    },
                    "metadata": {},
                    "execution_count": 29
                }
            ],
            "metadata": {}
        },
        {
            "cell_type": "code",
            "execution_count": 25,
            "source": [
                "rank_3_tensor = rank_2_tensor[..., tf.newaxis]\r\n",
                "rank_3_tensor"
            ],
            "outputs": [
                {
                    "output_type": "execute_result",
                    "data": {
                        "text/plain": [
                            "<tf.Tensor: shape=(2, 2, 1), dtype=int32, numpy=\n",
                            "array([[[ 3],\n",
                            "        [ 7]],\n",
                            "\n",
                            "       [[10],\n",
                            "        [ 4]]])>"
                        ]
                    },
                    "metadata": {},
                    "execution_count": 25
                }
            ],
            "metadata": {}
        },
        {
            "cell_type": "code",
            "execution_count": 28,
            "source": [
                "tf.reshape(rank_2_tensor, shape=(2,2,1))"
            ],
            "outputs": [
                {
                    "output_type": "execute_result",
                    "data": {
                        "text/plain": [
                            "<tf.Tensor: shape=(2, 2, 1), dtype=int32, numpy=\n",
                            "array([[[ 3],\n",
                            "        [ 7]],\n",
                            "\n",
                            "       [[10],\n",
                            "        [ 4]]])>"
                        ]
                    },
                    "metadata": {},
                    "execution_count": 28
                }
            ],
            "metadata": {}
        },
        {
            "cell_type": "code",
            "execution_count": 30,
            "source": [
                "tf.expand_dims(rank_2_tensor, axis=-1) # -1 for expand the last axis"
            ],
            "outputs": [
                {
                    "output_type": "execute_result",
                    "data": {
                        "text/plain": [
                            "<tf.Tensor: shape=(2, 2, 1), dtype=int32, numpy=\n",
                            "array([[[ 3],\n",
                            "        [ 7]],\n",
                            "\n",
                            "       [[10],\n",
                            "        [ 4]]])>"
                        ]
                    },
                    "metadata": {},
                    "execution_count": 30
                }
            ],
            "metadata": {}
        },
        {
            "cell_type": "code",
            "execution_count": 32,
            "source": [
                "tf.expand_dims(rank_2_tensor, axis=0) # 0 for expand the first axis"
            ],
            "outputs": [
                {
                    "output_type": "execute_result",
                    "data": {
                        "text/plain": [
                            "<tf.Tensor: shape=(1, 2, 2), dtype=int32, numpy=\n",
                            "array([[[ 3,  7],\n",
                            "        [10,  4]]])>"
                        ]
                    },
                    "metadata": {},
                    "execution_count": 32
                }
            ],
            "metadata": {}
        },
        {
            "cell_type": "markdown",
            "source": [
                "## Manipulating tensors with basic operations"
            ],
            "metadata": {}
        },
        {
            "cell_type": "markdown",
            "source": [
                "**Basic oparations**\r\n",
                "( `+`, `-`, `*`, `/` )"
            ],
            "metadata": {}
        },
        {
            "cell_type": "code",
            "execution_count": 3,
            "source": [
                "tensor = tf.constant(\r\n",
                "    [\r\n",
                "        [10, 7],\r\n",
                "        [3, 4]\r\n",
                "    ]\r\n",
                ")\r\n",
                "tensor"
            ],
            "outputs": [
                {
                    "output_type": "execute_result",
                    "data": {
                        "text/plain": [
                            "<tf.Tensor: shape=(2, 2), dtype=int32, numpy=\n",
                            "array([[10,  7],\n",
                            "       [ 3,  4]])>"
                        ]
                    },
                    "metadata": {},
                    "execution_count": 3
                }
            ],
            "metadata": {}
        },
        {
            "cell_type": "code",
            "execution_count": 4,
            "source": [
                "tensor + 10"
            ],
            "outputs": [
                {
                    "output_type": "execute_result",
                    "data": {
                        "text/plain": [
                            "<tf.Tensor: shape=(2, 2), dtype=int32, numpy=\n",
                            "array([[20, 17],\n",
                            "       [13, 14]])>"
                        ]
                    },
                    "metadata": {},
                    "execution_count": 4
                }
            ],
            "metadata": {}
        },
        {
            "cell_type": "code",
            "execution_count": 5,
            "source": [
                "tensor * 10"
            ],
            "outputs": [
                {
                    "output_type": "execute_result",
                    "data": {
                        "text/plain": [
                            "<tf.Tensor: shape=(2, 2), dtype=int32, numpy=\n",
                            "array([[100,  70],\n",
                            "       [ 30,  40]])>"
                        ]
                    },
                    "metadata": {},
                    "execution_count": 5
                }
            ],
            "metadata": {}
        },
        {
            "cell_type": "code",
            "execution_count": 6,
            "source": [
                "tensor - 10"
            ],
            "outputs": [
                {
                    "output_type": "execute_result",
                    "data": {
                        "text/plain": [
                            "<tf.Tensor: shape=(2, 2), dtype=int32, numpy=\n",
                            "array([[ 0, -3],\n",
                            "       [-7, -6]])>"
                        ]
                    },
                    "metadata": {},
                    "execution_count": 6
                }
            ],
            "metadata": {}
        },
        {
            "cell_type": "code",
            "execution_count": 10,
            "source": [
                "tf.math.multiply(tensor, 10), tf.multiply(tensor, 10)"
            ],
            "outputs": [
                {
                    "output_type": "execute_result",
                    "data": {
                        "text/plain": [
                            "(<tf.Tensor: shape=(2, 2), dtype=int32, numpy=\n",
                            " array([[100,  70],\n",
                            "        [ 30,  40]])>,\n",
                            " <tf.Tensor: shape=(2, 2), dtype=int32, numpy=\n",
                            " array([[100,  70],\n",
                            "        [ 30,  40]])>)"
                        ]
                    },
                    "metadata": {},
                    "execution_count": 10
                }
            ],
            "metadata": {}
        },
        {
            "cell_type": "code",
            "execution_count": 9,
            "source": [
                "tensor"
            ],
            "outputs": [
                {
                    "output_type": "execute_result",
                    "data": {
                        "text/plain": [
                            "<tf.Tensor: shape=(2, 2), dtype=int32, numpy=\n",
                            "array([[10,  7],\n",
                            "       [ 3,  4]])>"
                        ]
                    },
                    "metadata": {},
                    "execution_count": 9
                }
            ],
            "metadata": {}
        },
        {
            "cell_type": "markdown",
            "source": [
                "## Matrix multiplication with tensors part 1"
            ],
            "metadata": {}
        },
        {
            "cell_type": "code",
            "execution_count": 18,
            "source": [
                "tensor = tf.constant(\r\n",
                "    [\r\n",
                "        [10, 7],\r\n",
                "        [3, 4]\r\n",
                "    ]\r\n",
                ")\r\n",
                "tensor"
            ],
            "outputs": [
                {
                    "output_type": "execute_result",
                    "data": {
                        "text/plain": [
                            "<tf.Tensor: shape=(2, 2), dtype=int32, numpy=\n",
                            "array([[10,  7],\n",
                            "       [ 3,  4]])>"
                        ]
                    },
                    "metadata": {},
                    "execution_count": 18
                }
            ],
            "metadata": {}
        },
        {
            "cell_type": "code",
            "execution_count": 19,
            "source": [
                "tensor * tensor"
            ],
            "outputs": [
                {
                    "output_type": "execute_result",
                    "data": {
                        "text/plain": [
                            "<tf.Tensor: shape=(2, 2), dtype=int32, numpy=\n",
                            "array([[100,  49],\n",
                            "       [  9,  16]])>"
                        ]
                    },
                    "metadata": {},
                    "execution_count": 19
                }
            ],
            "metadata": {}
        },
        {
            "cell_type": "code",
            "execution_count": 20,
            "source": [
                "tf.linalg.matmul(tensor, tensor), tf.matmul(tensor, tensor), tensor @ tensor"
            ],
            "outputs": [
                {
                    "output_type": "execute_result",
                    "data": {
                        "text/plain": [
                            "(<tf.Tensor: shape=(2, 2), dtype=int32, numpy=\n",
                            " array([[121,  98],\n",
                            "        [ 42,  37]])>,\n",
                            " <tf.Tensor: shape=(2, 2), dtype=int32, numpy=\n",
                            " array([[121,  98],\n",
                            "        [ 42,  37]])>,\n",
                            " <tf.Tensor: shape=(2, 2), dtype=int32, numpy=\n",
                            " array([[121,  98],\n",
                            "        [ 42,  37]])>)"
                        ]
                    },
                    "metadata": {},
                    "execution_count": 20
                }
            ],
            "metadata": {}
        },
        {
            "cell_type": "markdown",
            "source": [
                "## Matrix multiplication with tensors part 2"
            ],
            "metadata": {}
        },
        {
            "cell_type": "code",
            "execution_count": 23,
            "source": [
                "x = tf.constant(\r\n",
                "    [\r\n",
                "        [1, 2],\r\n",
                "        [3, 4],\r\n",
                "        [5, 6]\r\n",
                "    ]\r\n",
                ")\r\n",
                "x"
            ],
            "outputs": [
                {
                    "output_type": "execute_result",
                    "data": {
                        "text/plain": [
                            "<tf.Tensor: shape=(3, 2), dtype=int32, numpy=\n",
                            "array([[1, 2],\n",
                            "       [3, 4],\n",
                            "       [5, 6]])>"
                        ]
                    },
                    "metadata": {},
                    "execution_count": 23
                }
            ],
            "metadata": {}
        },
        {
            "cell_type": "code",
            "execution_count": 25,
            "source": [
                "tf.reshape(x, shape=(2,3)), tf.transpose(x)"
            ],
            "outputs": [
                {
                    "output_type": "execute_result",
                    "data": {
                        "text/plain": [
                            "(<tf.Tensor: shape=(2, 3), dtype=int32, numpy=\n",
                            " array([[1, 2, 3],\n",
                            "        [4, 5, 6]])>,\n",
                            " <tf.Tensor: shape=(2, 3), dtype=int32, numpy=\n",
                            " array([[1, 3, 5],\n",
                            "        [2, 4, 6]])>)"
                        ]
                    },
                    "metadata": {},
                    "execution_count": 25
                }
            ],
            "metadata": {}
        },
        {
            "cell_type": "code",
            "execution_count": 22,
            "source": [
                "tf.transpose(x) @ x, x @ tf.transpose(x)"
            ],
            "outputs": [
                {
                    "output_type": "execute_result",
                    "data": {
                        "text/plain": [
                            "(<tf.Tensor: shape=(2, 2), dtype=int32, numpy=\n",
                            " array([[35, 44],\n",
                            "        [44, 56]])>,\n",
                            " <tf.Tensor: shape=(3, 3), dtype=int32, numpy=\n",
                            " array([[ 5, 11, 17],\n",
                            "        [11, 25, 39],\n",
                            "        [17, 39, 61]])>)"
                        ]
                    },
                    "metadata": {},
                    "execution_count": 22
                }
            ],
            "metadata": {}
        },
        {
            "cell_type": "code",
            "execution_count": 26,
            "source": [
                "tf.reshape(x, shape=(2,3)) @ x, x @ tf.reshape(x, shape=(2,3))"
            ],
            "outputs": [
                {
                    "output_type": "execute_result",
                    "data": {
                        "text/plain": [
                            "(<tf.Tensor: shape=(2, 2), dtype=int32, numpy=\n",
                            " array([[22, 28],\n",
                            "        [49, 64]])>,\n",
                            " <tf.Tensor: shape=(3, 3), dtype=int32, numpy=\n",
                            " array([[ 9, 12, 15],\n",
                            "        [19, 26, 33],\n",
                            "        [29, 40, 51]])>)"
                        ]
                    },
                    "metadata": {},
                    "execution_count": 26
                }
            ],
            "metadata": {}
        },
        {
            "cell_type": "markdown",
            "source": [
                "## Matrix multiplication with tensors part 3"
            ],
            "metadata": {}
        },
        {
            "cell_type": "markdown",
            "source": [
                "**Dot Product (Matrix multiplication)**\r\n",
                "* `@`\r\n",
                "* `tf.matmul()`\r\n",
                "* `tf.tensordot()`"
            ],
            "metadata": {}
        },
        {
            "cell_type": "code",
            "execution_count": 2,
            "source": [
                "x = tf.constant(\r\n",
                "    [\r\n",
                "        [1, 2],\r\n",
                "        [3, 4],\r\n",
                "        [5, 6],\r\n",
                "    ]\r\n",
                ")\r\n",
                "\r\n",
                "y = tf.constant(\r\n",
                "    [\r\n",
                "        [7, 8],\r\n",
                "        [9, 10],\r\n",
                "        [11,12],\r\n",
                "    ]\r\n",
                ")\r\n",
                "\r\n",
                "x, y"
            ],
            "outputs": [
                {
                    "output_type": "execute_result",
                    "data": {
                        "text/plain": [
                            "(<tf.Tensor: shape=(3, 2), dtype=int32, numpy=\n",
                            " array([[1, 2],\n",
                            "        [3, 4],\n",
                            "        [5, 6]])>,\n",
                            " <tf.Tensor: shape=(3, 2), dtype=int32, numpy=\n",
                            " array([[ 7,  8],\n",
                            "        [ 9, 10],\n",
                            "        [11, 12]])>)"
                        ]
                    },
                    "metadata": {},
                    "execution_count": 2
                }
            ],
            "metadata": {}
        },
        {
            "cell_type": "code",
            "execution_count": 6,
            "source": [
                "tf.transpose(x).shape, y.shape"
            ],
            "outputs": [
                {
                    "output_type": "execute_result",
                    "data": {
                        "text/plain": [
                            "(TensorShape([2, 3]), TensorShape([3, 2]))"
                        ]
                    },
                    "metadata": {},
                    "execution_count": 6
                }
            ],
            "metadata": {}
        },
        {
            "cell_type": "code",
            "execution_count": 5,
            "source": [
                "tf.tensordot(tf.transpose(x), y, axes=1), tf.matmul(tf.transpose(x), y), tf.transpose(x) @ y"
            ],
            "outputs": [
                {
                    "output_type": "execute_result",
                    "data": {
                        "text/plain": [
                            "(<tf.Tensor: shape=(2, 2), dtype=int32, numpy=\n",
                            " array([[ 89,  98],\n",
                            "        [116, 128]])>,\n",
                            " <tf.Tensor: shape=(2, 2), dtype=int32, numpy=\n",
                            " array([[ 89,  98],\n",
                            "        [116, 128]])>,\n",
                            " <tf.Tensor: shape=(2, 2), dtype=int32, numpy=\n",
                            " array([[ 89,  98],\n",
                            "        [116, 128]])>)"
                        ]
                    },
                    "metadata": {},
                    "execution_count": 5
                }
            ],
            "metadata": {}
        },
        {
            "cell_type": "markdown",
            "source": [
                "## Changing the datatype of tensors"
            ],
            "metadata": {}
        },
        {
            "cell_type": "markdown",
            "source": [
                "### Default datatypes"
            ],
            "metadata": {}
        },
        {
            "cell_type": "code",
            "execution_count": 7,
            "source": [
                "x = tf.constant([1.2, 14])\r\n",
                "x.dtype"
            ],
            "outputs": [
                {
                    "output_type": "execute_result",
                    "data": {
                        "text/plain": [
                            "tf.float32"
                        ]
                    },
                    "metadata": {},
                    "execution_count": 7
                }
            ],
            "metadata": {}
        },
        {
            "cell_type": "code",
            "execution_count": 8,
            "source": [
                "y = tf.constant([12, 14])\r\n",
                "y.dtype"
            ],
            "outputs": [
                {
                    "output_type": "execute_result",
                    "data": {
                        "text/plain": [
                            "tf.int32"
                        ]
                    },
                    "metadata": {},
                    "execution_count": 8
                }
            ],
            "metadata": {}
        },
        {
            "cell_type": "markdown",
            "source": [
                "### Change the datatype"
            ],
            "metadata": {}
        },
        {
            "cell_type": "code",
            "execution_count": 10,
            "source": [
                "x = tf.cast(x, dtype=tf.float16)\r\n",
                "x"
            ],
            "outputs": [
                {
                    "output_type": "execute_result",
                    "data": {
                        "text/plain": [
                            "<tf.Tensor: shape=(2,), dtype=float16, numpy=array([ 1.2, 14. ], dtype=float16)>"
                        ]
                    },
                    "metadata": {},
                    "execution_count": 10
                }
            ],
            "metadata": {}
        },
        {
            "cell_type": "code",
            "execution_count": 11,
            "source": [
                "y = tf.cast(y, dtype=tf.float32)\r\n",
                "y"
            ],
            "outputs": [
                {
                    "output_type": "execute_result",
                    "data": {
                        "text/plain": [
                            "<tf.Tensor: shape=(2,), dtype=float32, numpy=array([12., 14.], dtype=float32)>"
                        ]
                    },
                    "metadata": {},
                    "execution_count": 11
                }
            ],
            "metadata": {}
        },
        {
            "cell_type": "markdown",
            "source": [
                "## Tensor aggregation (finding the min, max, mean & more)"
            ],
            "metadata": {}
        },
        {
            "cell_type": "code",
            "execution_count": 2,
            "source": [
                "A = tf.constant([-7, -10])\r\n",
                "A, tf.abs(A)"
            ],
            "outputs": [
                {
                    "output_type": "execute_result",
                    "data": {
                        "text/plain": [
                            "(<tf.Tensor: shape=(2,), dtype=int32, numpy=array([ -7, -10])>,\n",
                            " <tf.Tensor: shape=(2,), dtype=int32, numpy=array([ 7, 10])>)"
                        ]
                    },
                    "metadata": {},
                    "execution_count": 2
                }
            ],
            "metadata": {}
        },
        {
            "cell_type": "markdown",
            "source": [
                "### Create a random tensor"
            ],
            "metadata": {}
        },
        {
            "cell_type": "code",
            "execution_count": 16,
            "source": [
                "import numpy as np"
            ],
            "outputs": [],
            "metadata": {}
        },
        {
            "cell_type": "code",
            "execution_count": 17,
            "source": [
                "x = tf.constant(np.random.randint(0, 100, size=50))\r\n",
                "x"
            ],
            "outputs": [
                {
                    "output_type": "execute_result",
                    "data": {
                        "text/plain": [
                            "<tf.Tensor: shape=(50,), dtype=int32, numpy=\n",
                            "array([24, 80, 24, 37, 82, 71, 26, 42, 22, 99, 59, 44, 48, 97,  2, 50, 95,\n",
                            "       58, 72, 50, 22, 62, 21, 87, 63, 58, 86, 21, 43, 28, 12, 98, 99,  0,\n",
                            "       91, 79, 29, 86, 81, 94, 18, 23,  4, 89, 43, 30, 88, 49, 82, 58])>"
                        ]
                    },
                    "metadata": {},
                    "execution_count": 17
                }
            ],
            "metadata": {}
        },
        {
            "cell_type": "markdown",
            "source": [
                "### Find minimum"
            ],
            "metadata": {}
        },
        {
            "cell_type": "code",
            "execution_count": 26,
            "source": [
                "tf.reduce_min(x)"
            ],
            "outputs": [
                {
                    "output_type": "execute_result",
                    "data": {
                        "text/plain": [
                            "<tf.Tensor: shape=(), dtype=int32, numpy=0>"
                        ]
                    },
                    "metadata": {},
                    "execution_count": 26
                }
            ],
            "metadata": {}
        },
        {
            "cell_type": "code",
            "execution_count": 33,
            "source": [
                "tf.reduce_min(x).numpy()"
            ],
            "outputs": [
                {
                    "output_type": "execute_result",
                    "data": {
                        "text/plain": [
                            "0"
                        ]
                    },
                    "metadata": {},
                    "execution_count": 33
                }
            ],
            "metadata": {}
        },
        {
            "cell_type": "code",
            "execution_count": 36,
            "source": [
                "type(tf.reduce_min(x).numpy())"
            ],
            "outputs": [
                {
                    "output_type": "execute_result",
                    "data": {
                        "text/plain": [
                            "numpy.int32"
                        ]
                    },
                    "metadata": {},
                    "execution_count": 36
                }
            ],
            "metadata": {}
        },
        {
            "cell_type": "markdown",
            "source": [
                "### Find maximum"
            ],
            "metadata": {}
        },
        {
            "cell_type": "code",
            "execution_count": 20,
            "source": [
                "tf.reduce_max(x)"
            ],
            "outputs": [
                {
                    "output_type": "execute_result",
                    "data": {
                        "text/plain": [
                            "<tf.Tensor: shape=(), dtype=int32, numpy=99>"
                        ]
                    },
                    "metadata": {},
                    "execution_count": 20
                }
            ],
            "metadata": {}
        },
        {
            "cell_type": "markdown",
            "source": [
                "### Find mean"
            ],
            "metadata": {}
        },
        {
            "cell_type": "code",
            "execution_count": 27,
            "source": [
                "tf.reduce_mean(x)"
            ],
            "outputs": [
                {
                    "output_type": "execute_result",
                    "data": {
                        "text/plain": [
                            "<tf.Tensor: shape=(), dtype=int32, numpy=54>"
                        ]
                    },
                    "metadata": {},
                    "execution_count": 27
                }
            ],
            "metadata": {}
        },
        {
            "cell_type": "markdown",
            "source": [
                "### Find sum"
            ],
            "metadata": {}
        },
        {
            "cell_type": "code",
            "execution_count": 31,
            "source": [
                "tf.reduce_sum(x)"
            ],
            "outputs": [
                {
                    "output_type": "execute_result",
                    "data": {
                        "text/plain": [
                            "<tf.Tensor: shape=(), dtype=int32, numpy=2726>"
                        ]
                    },
                    "metadata": {},
                    "execution_count": 31
                }
            ],
            "metadata": {}
        },
        {
            "cell_type": "markdown",
            "source": [
                "## Tensor troubleshooting example (updating tensor datatypes)"
            ],
            "metadata": {}
        },
        {
            "cell_type": "markdown",
            "source": [
                "### Standard deviation"
            ],
            "metadata": {}
        },
        {
            "cell_type": "code",
            "execution_count": 45,
            "source": [
                "tf.math.reduce_std(tf.cast(x, tf.float16))"
            ],
            "outputs": [
                {
                    "output_type": "execute_result",
                    "data": {
                        "text/plain": [
                            "<tf.Tensor: shape=(), dtype=float16, numpy=29.7>"
                        ]
                    },
                    "metadata": {},
                    "execution_count": 45
                }
            ],
            "metadata": {}
        },
        {
            "cell_type": "markdown",
            "source": [
                "### Variance"
            ],
            "metadata": {}
        },
        {
            "cell_type": "code",
            "execution_count": 46,
            "source": [
                "tf.math.reduce_variance(tf.cast(x, tf.float16))"
            ],
            "outputs": [
                {
                    "output_type": "execute_result",
                    "data": {
                        "text/plain": [
                            "<tf.Tensor: shape=(), dtype=float16, numpy=882.5>"
                        ]
                    },
                    "metadata": {},
                    "execution_count": 46
                }
            ],
            "metadata": {}
        },
        {
            "cell_type": "code",
            "execution_count": 47,
            "source": [
                "tf.square(tf.math.reduce_std(tf.cast(x, tf.float16)))"
            ],
            "outputs": [
                {
                    "output_type": "execute_result",
                    "data": {
                        "text/plain": [
                            "<tf.Tensor: shape=(), dtype=float16, numpy=882.5>"
                        ]
                    },
                    "metadata": {},
                    "execution_count": 47
                }
            ],
            "metadata": {}
        }
    ],
    "metadata": {
        "orig_nbformat": 4,
        "language_info": {
            "name": "python",
            "version": "3.8.5",
            "mimetype": "text/x-python",
            "codemirror_mode": {
                "name": "ipython",
                "version": 3
            },
            "pygments_lexer": "ipython3",
            "nbconvert_exporter": "python",
            "file_extension": ".py"
        },
        "kernelspec": {
            "name": "python3",
            "display_name": "Python 3.8.5 64-bit ('base': conda)"
        },
        "interpreter": {
            "hash": "293c111297a61481508202fcd690d673b0775ece2d2d867b62b8842b676a9a30"
        }
    },
    "nbformat": 4,
    "nbformat_minor": 2
}