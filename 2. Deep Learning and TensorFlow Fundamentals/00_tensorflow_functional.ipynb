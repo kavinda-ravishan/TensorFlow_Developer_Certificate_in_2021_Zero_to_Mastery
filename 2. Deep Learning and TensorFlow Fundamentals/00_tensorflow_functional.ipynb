{
    "cells": [
        {
            "cell_type": "markdown",
            "source": [
                "# Introduction to tensors"
            ],
            "metadata": {}
        },
        {
            "cell_type": "code",
            "execution_count": 2,
            "source": [
                "import tensorflow as tf"
            ],
            "outputs": [],
            "metadata": {}
        },
        {
            "cell_type": "code",
            "execution_count": 3,
            "source": [
                "print(tf.__version__)"
            ],
            "outputs": [
                {
                    "output_type": "stream",
                    "name": "stdout",
                    "text": [
                        "2.5.0\n"
                    ]
                }
            ],
            "metadata": {}
        },
        {
            "cell_type": "markdown",
            "source": [
                "## Create tensors with tf.constant()"
            ],
            "metadata": {}
        },
        {
            "cell_type": "code",
            "execution_count": 15,
            "source": [
                "scalar = tf.constant(7)\r\n",
                "scalar"
            ],
            "outputs": [
                {
                    "output_type": "execute_result",
                    "data": {
                        "text/plain": [
                            "<tf.Tensor: shape=(), dtype=int32, numpy=7>"
                        ]
                    },
                    "metadata": {},
                    "execution_count": 15
                }
            ],
            "metadata": {}
        },
        {
            "cell_type": "markdown",
            "source": [
                "### Check number of dimensions"
            ],
            "metadata": {}
        },
        {
            "cell_type": "code",
            "execution_count": 16,
            "source": [
                "scalar.ndim"
            ],
            "outputs": [
                {
                    "output_type": "execute_result",
                    "data": {
                        "text/plain": [
                            "0"
                        ]
                    },
                    "metadata": {},
                    "execution_count": 16
                }
            ],
            "metadata": {}
        },
        {
            "cell_type": "code",
            "execution_count": 10,
            "source": [
                "vector = tf.constant([10, 10])\r\n",
                "vector, vector.ndim"
            ],
            "outputs": [
                {
                    "output_type": "execute_result",
                    "data": {
                        "text/plain": [
                            "(<tf.Tensor: shape=(2,), dtype=int32, numpy=array([10, 10])>, 1)"
                        ]
                    },
                    "metadata": {},
                    "execution_count": 10
                }
            ],
            "metadata": {}
        },
        {
            "cell_type": "code",
            "execution_count": 20,
            "source": [
                "matrix = tf.constant(\r\n",
                "    [\r\n",
                "        [1, 2],\r\n",
                "        [3, 4]\r\n",
                "    ]\r\n",
                ")\r\n",
                "matrix, f'ndim = {matrix.ndim}'"
            ],
            "outputs": [
                {
                    "output_type": "execute_result",
                    "data": {
                        "text/plain": [
                            "(<tf.Tensor: shape=(2, 2), dtype=int32, numpy=\n",
                            " array([[1, 2],\n",
                            "        [3, 4]])>,\n",
                            " 'ndim = 2')"
                        ]
                    },
                    "metadata": {},
                    "execution_count": 20
                }
            ],
            "metadata": {}
        },
        {
            "cell_type": "markdown",
            "source": [
                "### Data type"
            ],
            "metadata": {}
        },
        {
            "cell_type": "code",
            "execution_count": 24,
            "source": [
                "matrix2 = tf.constant(\r\n",
                "    [\r\n",
                "        [1.1, 2.],\r\n",
                "        [3, 4.12],\r\n",
                "        [5, 6]\r\n",
                "    ],\r\n",
                "    dtype=tf.float16\r\n",
                ")\r\n",
                "matrix2, f'ndim = {matrix2.ndim}'"
            ],
            "outputs": [
                {
                    "output_type": "execute_result",
                    "data": {
                        "text/plain": [
                            "(<tf.Tensor: shape=(3, 2), dtype=float16, numpy=\n",
                            " array([[1.1 , 2.  ],\n",
                            "        [3.  , 4.12],\n",
                            "        [5.  , 6.  ]], dtype=float16)>,\n",
                            " 'ndim = 2')"
                        ]
                    },
                    "metadata": {},
                    "execution_count": 24
                }
            ],
            "metadata": {}
        },
        {
            "cell_type": "code",
            "execution_count": 26,
            "source": [
                "tensor = tf.constant(\r\n",
                "    [\r\n",
                "        [\r\n",
                "            [1, 2, 3],\r\n",
                "            [4, 5, 6]\r\n",
                "        ],\r\n",
                "        [\r\n",
                "            [7, 8, 9],\r\n",
                "            [10, 11, 12]\r\n",
                "        ],\r\n",
                "        [\r\n",
                "            [13, 14, 15],\r\n",
                "            [16, 17, 18]\r\n",
                "        ]\r\n",
                "    ]\r\n",
                ")\r\n",
                "tensor, f'ndim = {tensor.ndim}'"
            ],
            "outputs": [
                {
                    "output_type": "execute_result",
                    "data": {
                        "text/plain": [
                            "(<tf.Tensor: shape=(3, 2, 3), dtype=int32, numpy=\n",
                            " array([[[ 1,  2,  3],\n",
                            "         [ 4,  5,  6]],\n",
                            " \n",
                            "        [[ 7,  8,  9],\n",
                            "         [10, 11, 12]],\n",
                            " \n",
                            "        [[13, 14, 15],\n",
                            "         [16, 17, 18]]])>,\n",
                            " 'ndim = 3')"
                        ]
                    },
                    "metadata": {},
                    "execution_count": 26
                }
            ],
            "metadata": {}
        },
        {
            "cell_type": "markdown",
            "source": [
                "`All above are tensors (scalars, vectors, matrices)`"
            ],
            "metadata": {}
        },
        {
            "cell_type": "markdown",
            "source": [
                "`Tensors can be n-dimensional`"
            ],
            "metadata": {}
        }
    ],
    "metadata": {
        "orig_nbformat": 4,
        "language_info": {
            "name": "python",
            "version": "3.8.5",
            "mimetype": "text/x-python",
            "codemirror_mode": {
                "name": "ipython",
                "version": 3
            },
            "pygments_lexer": "ipython3",
            "nbconvert_exporter": "python",
            "file_extension": ".py"
        },
        "kernelspec": {
            "name": "python3",
            "display_name": "Python 3.8.5 64-bit ('base': conda)"
        },
        "interpreter": {
            "hash": "293c111297a61481508202fcd690d673b0775ece2d2d867b62b8842b676a9a30"
        }
    },
    "nbformat": 4,
    "nbformat_minor": 2
}