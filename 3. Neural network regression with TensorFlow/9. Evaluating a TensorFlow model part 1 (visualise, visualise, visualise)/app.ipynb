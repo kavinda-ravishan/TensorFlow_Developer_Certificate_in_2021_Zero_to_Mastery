{
 "cells": [
  {
   "cell_type": "markdown",
   "source": [
    "# Importing libraries"
   ],
   "metadata": {}
  },
  {
   "cell_type": "code",
   "execution_count": 2,
   "source": [
    "import tensorflow as tf\r\n",
    "import numpy as np\r\n",
    "import matplotlib.pyplot as plt"
   ],
   "outputs": [],
   "metadata": {}
  },
  {
   "cell_type": "markdown",
   "source": [
    "# Data preprocessing"
   ],
   "metadata": {}
  },
  {
   "cell_type": "code",
   "execution_count": 3,
   "source": [
    "X = np.arange(-100, 100, 4, dtype=np.float64)\r\n",
    "y = X + 10"
   ],
   "outputs": [],
   "metadata": {}
  },
  {
   "cell_type": "code",
   "execution_count": 4,
   "source": [
    "X.shape"
   ],
   "outputs": [
    {
     "output_type": "execute_result",
     "data": {
      "text/plain": [
       "(50,)"
      ]
     },
     "metadata": {},
     "execution_count": 4
    }
   ],
   "metadata": {}
  },
  {
   "cell_type": "code",
   "execution_count": 5,
   "source": [
    "X = tf.constant(X)\r\n",
    "y = tf.constant(y)"
   ],
   "outputs": [],
   "metadata": {}
  },
  {
   "cell_type": "code",
   "execution_count": 6,
   "source": [
    "X_train, y_train = X[:40], y[:40]\r\n",
    "X_test, y_test = X[40:], y[40:]"
   ],
   "outputs": [],
   "metadata": {}
  },
  {
   "cell_type": "code",
   "execution_count": 11,
   "source": [
    "print(f'Training Data : {len(X_train)*100/len(X)}%')\r\n",
    "print(f'Testing Data : {len(X_test)*100/len(X)}%')"
   ],
   "outputs": [
    {
     "output_type": "stream",
     "name": "stdout",
     "text": [
      "Training Data : 80.0%\n",
      "Testing Data : 20.0%\n"
     ]
    }
   ],
   "metadata": {}
  },
  {
   "cell_type": "code",
   "execution_count": 14,
   "source": [
    "plt.figure(figsize=(8, 5))\r\n",
    "plt.plot(X_train, y_train, 'rs--', label='Training data')\r\n",
    "plt.plot(X_test, y_test, 'bo--', label='Testing data')\r\n",
    "plt.title('Trained data')\r\n",
    "plt.xlabel('X')\r\n",
    "plt.ylabel('Y')\r\n",
    "plt.grid()\r\n",
    "plt.legend()\r\n",
    "\r\n",
    "plt.show()"
   ],
   "outputs": [
    {
     "output_type": "display_data",
     "data": {
      "image/png": "[encoded data removed]",
      "text/plain": [
       "<Figure size 576x360 with 1 Axes>"
      ]
     },
     "metadata": {
      "needs_background": "light"
     }
    }
   ],
   "metadata": {}
  },
  {
   "cell_type": "markdown",
   "source": [
    "# Creating the model"
   ],
   "metadata": {}
  },
  {
   "cell_type": "code",
   "execution_count": 31,
   "source": [
    "# Set random seed\r\n",
    "tf.random.set_seed(42)"
   ],
   "outputs": [],
   "metadata": {}
  },
  {
   "cell_type": "code",
   "execution_count": 32,
   "source": [
    "# Creating the model using the sequential API\r\n",
    "model = tf.keras.Sequential([\r\n",
    "    tf.keras.layers.Dense(50, activation=None),\r\n",
    "    tf.keras.layers.Dense(1)\r\n",
    "])"
   ],
   "outputs": [],
   "metadata": {}
  },
  {
   "cell_type": "code",
   "execution_count": 33,
   "source": [
    "model.compile(\r\n",
    "    loss=tf.keras.losses.mae,\r\n",
    "    optimizer=tf.keras.optimizers.Adam(learning_rate=0.01),\r\n",
    "    metrics=['mae']\r\n",
    ")"
   ],
   "outputs": [],
   "metadata": {}
  },
  {
   "cell_type": "code",
   "execution_count": 34,
   "source": [
    "model.fit(X_train, y_train, epochs=100)"
   ],
   "outputs": [
    {
     "output_type": "stream",
     "name": "stdout",
     "text": [
      "Epoch 1/100\n",
      "2/2 [==============================] - 1s 4ms/step - loss: 35.8233 - mae: 35.8233\n",
      "Epoch 2/100\n",
      "2/2 [==============================] - 0s 4ms/step - loss: 21.7558 - mae: 21.7558\n",
      "Epoch 3/100\n",
      "2/2 [==============================] - 0s 6ms/step - loss: 9.9130 - mae: 9.9130\n",
      "Epoch 4/100\n",
      "2/2 [==============================] - 0s 8ms/step - loss: 11.5131 - mae: 11.5131\n",
      "Epoch 5/100\n",
      "2/2 [==============================] - 0s 8ms/step - loss: 14.5001 - mae: 14.5001\n",
      "Epoch 6/100\n",
      "2/2 [==============================] - 0s 7ms/step - loss: 15.0784 - mae: 15.0784\n",
      "Epoch 7/100\n",
      "2/2 [==============================] - 0s 5ms/step - loss: 13.2625 - mae: 13.2625\n",
      "Epoch 8/100\n",
      "2/2 [==============================] - 0s 5ms/step - loss: 10.3109 - mae: 10.3109\n",
      "Epoch 9/100\n",
      "2/2 [==============================] - 0s 4ms/step - loss: 7.9467 - mae: 7.9467\n",
      "Epoch 10/100\n",
      "2/2 [==============================] - 0s 4ms/step - loss: 9.6544 - mae: 9.6544\n",
      "Epoch 11/100\n",
      "2/2 [==============================] - 0s 6ms/step - loss: 10.7823 - mae: 10.7823\n",
      "Epoch 12/100\n",
      "2/2 [==============================] - 0s 5ms/step - loss: 9.2403 - mae: 9.2403\n",
      "Epoch 13/100\n",
      "2/2 [==============================] - 0s 5ms/step - loss: 6.9202 - mae: 6.9202\n",
      "Epoch 14/100\n",
      "2/2 [==============================] - 0s 5ms/step - loss: 7.7852 - mae: 7.7852\n",
      "Epoch 15/100\n",
      "2/2 [==============================] - 0s 16ms/step - loss: 7.9725 - mae: 7.9725\n",
      "Epoch 16/100\n",
      "2/2 [==============================] - 0s 5ms/step - loss: 7.1490 - mae: 7.1490\n",
      "Epoch 17/100\n",
      "2/2 [==============================] - 0s 7ms/step - loss: 6.5008 - mae: 6.5008\n",
      "Epoch 18/100\n",
      "2/2 [==============================] - 0s 9ms/step - loss: 7.0598 - mae: 7.0598\n",
      "Epoch 19/100\n",
      "2/2 [==============================] - 0s 4ms/step - loss: 6.6974 - mae: 6.6974\n",
      "Epoch 20/100\n",
      "2/2 [==============================] - 0s 6ms/step - loss: 5.9717 - mae: 5.9717\n",
      "Epoch 21/100\n",
      "2/2 [==============================] - 0s 5ms/step - loss: 6.2018 - mae: 6.2018\n",
      "Epoch 22/100\n",
      "2/2 [==============================] - 0s 6ms/step - loss: 5.8185 - mae: 5.8185\n",
      "Epoch 23/100\n",
      "2/2 [==============================] - 0s 5ms/step - loss: 5.7885 - mae: 5.7885\n",
      "Epoch 24/100\n",
      "2/2 [==============================] - 0s 5ms/step - loss: 5.5840 - mae: 5.5840\n",
      "Epoch 25/100\n",
      "2/2 [==============================] - 0s 5ms/step - loss: 5.4471 - mae: 5.4471\n",
      "Epoch 26/100\n",
      "2/2 [==============================] - 0s 6ms/step - loss: 5.3552 - mae: 5.3552\n",
      "Epoch 27/100\n",
      "2/2 [==============================] - 0s 4ms/step - loss: 5.0215 - mae: 5.0215\n",
      "Epoch 28/100\n",
      "2/2 [==============================] - 0s 6ms/step - loss: 5.0362 - mae: 5.0362\n",
      "Epoch 29/100\n",
      "2/2 [==============================] - 0s 6ms/step - loss: 4.6896 - mae: 4.6896\n",
      "Epoch 30/100\n",
      "2/2 [==============================] - 0s 20ms/step - loss: 4.7985 - mae: 4.7985\n",
      "Epoch 31/100\n",
      "2/2 [==============================] - 0s 5ms/step - loss: 4.3430 - mae: 4.3430\n",
      "Epoch 32/100\n",
      "2/2 [==============================] - 0s 4ms/step - loss: 4.7040 - mae: 4.7040\n",
      "Epoch 33/100\n",
      "2/2 [==============================] - 0s 6ms/step - loss: 4.1129 - mae: 4.1129\n",
      "Epoch 34/100\n",
      "2/2 [==============================] - 0s 6ms/step - loss: 3.9660 - mae: 3.9660\n",
      "Epoch 35/100\n",
      "2/2 [==============================] - 0s 5ms/step - loss: 3.8156 - mae: 3.8156\n",
      "Epoch 36/100\n",
      "2/2 [==============================] - 0s 6ms/step - loss: 3.7840 - mae: 3.7840\n",
      "Epoch 37/100\n",
      "2/2 [==============================] - 0s 5ms/step - loss: 3.3393 - mae: 3.3393\n",
      "Epoch 38/100\n",
      "2/2 [==============================] - 0s 3ms/step - loss: 3.3452 - mae: 3.3452\n",
      "Epoch 39/100\n",
      "2/2 [==============================] - 0s 6ms/step - loss: 3.0304 - mae: 3.0304\n",
      "Epoch 40/100\n",
      "2/2 [==============================] - 0s 5ms/step - loss: 2.8450 - mae: 2.8450\n",
      "Epoch 41/100\n",
      "2/2 [==============================] - 0s 4ms/step - loss: 2.6842 - mae: 2.6842\n",
      "Epoch 42/100\n",
      "2/2 [==============================] - 0s 4ms/step - loss: 2.2985 - mae: 2.2985\n",
      "Epoch 43/100\n",
      "2/2 [==============================] - 0s 4ms/step - loss: 2.0914 - mae: 2.0914\n",
      "Epoch 44/100\n",
      "2/2 [==============================] - 0s 4ms/step - loss: 1.9215 - mae: 1.9215\n",
      "Epoch 45/100\n",
      "2/2 [==============================] - 0s 10ms/step - loss: 1.5428 - mae: 1.5428\n",
      "Epoch 46/100\n",
      "2/2 [==============================] - 0s 6ms/step - loss: 1.5024 - mae: 1.5024\n",
      "Epoch 47/100\n",
      "2/2 [==============================] - 0s 4ms/step - loss: 0.8363 - mae: 0.8363\n",
      "Epoch 48/100\n",
      "2/2 [==============================] - 0s 4ms/step - loss: 0.8931 - mae: 0.8931\n",
      "Epoch 49/100\n",
      "2/2 [==============================] - 0s 4ms/step - loss: 1.2266 - mae: 1.2266\n",
      "Epoch 50/100\n",
      "2/2 [==============================] - 0s 5ms/step - loss: 0.6886 - mae: 0.6886\n",
      "Epoch 51/100\n",
      "2/2 [==============================] - 0s 4ms/step - loss: 0.6050 - mae: 0.6050\n",
      "Epoch 52/100\n",
      "2/2 [==============================] - 0s 4ms/step - loss: 1.5204 - mae: 1.5204\n",
      "Epoch 53/100\n",
      "2/2 [==============================] - 0s 5ms/step - loss: 0.9935 - mae: 0.9935\n",
      "Epoch 54/100\n",
      "2/2 [==============================] - 0s 5ms/step - loss: 0.9118 - mae: 0.9118\n",
      "Epoch 55/100\n",
      "2/2 [==============================] - 0s 4ms/step - loss: 0.8713 - mae: 0.8713\n",
      "Epoch 56/100\n",
      "2/2 [==============================] - 0s 5ms/step - loss: 0.6038 - mae: 0.6038\n",
      "Epoch 57/100\n",
      "2/2 [==============================] - 0s 4ms/step - loss: 0.8650 - mae: 0.8650\n",
      "Epoch 58/100\n",
      "2/2 [==============================] - 0s 6ms/step - loss: 0.6705 - mae: 0.6705\n",
      "Epoch 59/100\n",
      "2/2 [==============================] - 0s 6ms/step - loss: 1.2811 - mae: 1.2811\n",
      "Epoch 60/100\n",
      "2/2 [==============================] - 0s 8ms/step - loss: 0.5690 - mae: 0.5690\n",
      "Epoch 61/100\n",
      "2/2 [==============================] - 0s 4ms/step - loss: 1.7174 - mae: 1.7174\n",
      "Epoch 62/100\n",
      "2/2 [==============================] - 0s 4ms/step - loss: 1.0725 - mae: 1.0725\n",
      "Epoch 63/100\n",
      "2/2 [==============================] - 0s 3ms/step - loss: 1.0097 - mae: 1.0097\n",
      "Epoch 64/100\n",
      "2/2 [==============================] - 0s 5ms/step - loss: 0.9730 - mae: 0.9730\n",
      "Epoch 65/100\n",
      "2/2 [==============================] - 0s 6ms/step - loss: 1.0183 - mae: 1.0183\n",
      "Epoch 66/100\n",
      "2/2 [==============================] - 0s 4ms/step - loss: 0.3978 - mae: 0.3978\n",
      "Epoch 67/100\n",
      "2/2 [==============================] - 0s 4ms/step - loss: 0.1570 - mae: 0.1570\n",
      "Epoch 68/100\n",
      "2/2 [==============================] - 0s 4ms/step - loss: 0.5703 - mae: 0.5703\n",
      "Epoch 69/100\n",
      "2/2 [==============================] - 0s 5ms/step - loss: 1.2200 - mae: 1.2200\n",
      "Epoch 70/100\n",
      "2/2 [==============================] - 0s 4ms/step - loss: 0.6258 - mae: 0.6258\n",
      "Epoch 71/100\n",
      "2/2 [==============================] - 0s 4ms/step - loss: 1.7693 - mae: 1.7693\n",
      "Epoch 72/100\n",
      "2/2 [==============================] - 0s 5ms/step - loss: 0.6385 - mae: 0.6385\n",
      "Epoch 73/100\n",
      "2/2 [==============================] - 0s 5ms/step - loss: 0.5571 - mae: 0.5571\n",
      "Epoch 74/100\n",
      "2/2 [==============================] - 0s 4ms/step - loss: 0.8275 - mae: 0.8275\n",
      "Epoch 75/100\n",
      "2/2 [==============================] - 0s 5ms/step - loss: 0.5734 - mae: 0.5734\n",
      "Epoch 76/100\n",
      "2/2 [==============================] - 0s 4ms/step - loss: 0.4506 - mae: 0.4506\n",
      "Epoch 77/100\n",
      "2/2 [==============================] - 0s 5ms/step - loss: 0.2962 - mae: 0.2962\n",
      "Epoch 78/100\n",
      "2/2 [==============================] - 0s 4ms/step - loss: 0.1928 - mae: 0.1928\n",
      "Epoch 79/100\n",
      "2/2 [==============================] - 0s 4ms/step - loss: 0.7182 - mae: 0.7182\n",
      "Epoch 80/100\n",
      "2/2 [==============================] - 0s 4ms/step - loss: 0.8842 - mae: 0.8842\n",
      "Epoch 81/100\n",
      "2/2 [==============================] - 0s 4ms/step - loss: 0.4561 - mae: 0.4561\n",
      "Epoch 82/100\n",
      "2/2 [==============================] - 0s 4ms/step - loss: 2.7463 - mae: 2.7463\n",
      "Epoch 83/100\n",
      "2/2 [==============================] - 0s 5ms/step - loss: 1.8323 - mae: 1.8323\n",
      "Epoch 84/100\n",
      "2/2 [==============================] - 0s 3ms/step - loss: 2.1590 - mae: 2.1590\n",
      "Epoch 85/100\n",
      "2/2 [==============================] - 0s 4ms/step - loss: 2.1999 - mae: 2.1999\n",
      "Epoch 86/100\n",
      "2/2 [==============================] - 0s 4ms/step - loss: 1.3800 - mae: 1.3800\n",
      "Epoch 87/100\n",
      "2/2 [==============================] - 0s 3ms/step - loss: 1.9562 - mae: 1.9562\n",
      "Epoch 88/100\n",
      "2/2 [==============================] - 0s 5ms/step - loss: 0.9651 - mae: 0.9651\n",
      "Epoch 89/100\n",
      "2/2 [==============================] - 0s 4ms/step - loss: 1.3217 - mae: 1.3217\n",
      "Epoch 90/100\n",
      "2/2 [==============================] - 0s 4ms/step - loss: 1.6187 - mae: 1.6187\n",
      "Epoch 91/100\n",
      "2/2 [==============================] - 0s 4ms/step - loss: 1.8641 - mae: 1.8641\n",
      "Epoch 92/100\n",
      "2/2 [==============================] - 0s 5ms/step - loss: 1.1509 - mae: 1.1509\n",
      "Epoch 93/100\n",
      "2/2 [==============================] - 0s 4ms/step - loss: 1.6533 - mae: 1.6533\n",
      "Epoch 94/100\n",
      "2/2 [==============================] - 0s 5ms/step - loss: 1.0797 - mae: 1.0797\n",
      "Epoch 95/100\n",
      "2/2 [==============================] - 0s 6ms/step - loss: 1.0201 - mae: 1.0201\n",
      "Epoch 96/100\n",
      "2/2 [==============================] - 0s 4ms/step - loss: 0.7810 - mae: 0.7810\n",
      "Epoch 97/100\n",
      "2/2 [==============================] - 0s 4ms/step - loss: 0.6520 - mae: 0.6520\n",
      "Epoch 98/100\n",
      "2/2 [==============================] - 0s 4ms/step - loss: 0.3998 - mae: 0.3998\n",
      "Epoch 99/100\n",
      "2/2 [==============================] - 0s 5ms/step - loss: 1.6067 - mae: 1.6067\n",
      "Epoch 100/100\n",
      "2/2 [==============================] - 0s 4ms/step - loss: 0.4134 - mae: 0.4134\n"
     ]
    },
    {
     "output_type": "execute_result",
     "data": {
      "text/plain": [
       "<tensorflow.python.keras.callbacks.History at 0x2b234022fd0>"
      ]
     },
     "metadata": {},
     "execution_count": 34
    }
   ],
   "metadata": {}
  },
  {
   "cell_type": "markdown",
   "source": [
    "# Evaluation the model"
   ],
   "metadata": {}
  },
  {
   "cell_type": "code",
   "execution_count": 35,
   "source": [
    "y_pred = model.predict(X_test)"
   ],
   "outputs": [],
   "metadata": {}
  },
  {
   "cell_type": "code",
   "execution_count": 36,
   "source": [
    "err = np.zeros(len(y_test))\r\n",
    "\r\n",
    "for i in range(len(y_test)):\r\n",
    "    err[i] = np.abs(y_test[i] - y_pred[i])\r\n",
    "\r\n",
    "np.mean(err)"
   ],
   "outputs": [
    {
     "output_type": "execute_result",
     "data": {
      "text/plain": [
       "0.5359054565429687"
      ]
     },
     "metadata": {},
     "execution_count": 36
    }
   ],
   "metadata": {}
  },
  {
   "cell_type": "code",
   "execution_count": 47,
   "source": [
    "plt.figure(figsize=(8, 5))\r\n",
    "plt.plot(X_test, y_pred, 'rs--', label='Y-Predictions')\r\n",
    "plt.plot(X_test, y_test, 'bo--', label='Y-Actual')\r\n",
    "plt.title('Trained data')\r\n",
    "plt.xlabel('X')\r\n",
    "plt.ylabel('Y')\r\n",
    "plt.xticks(X_test)\r\n",
    "plt.grid()\r\n",
    "plt.legend()\r\n",
    "\r\n",
    "plt.show()"
   ],
   "outputs": [
    {
     "output_type": "display_data",
     "data": {
      "image/png": "[encoded data removed]",
      "text/plain": [
       "<Figure size 576x360 with 1 Axes>"
      ]
     },
     "metadata": {
      "needs_background": "light"
     }
    }
   ],
   "metadata": {}
  }
 ],
 "metadata": {
  "orig_nbformat": 4,
  "language_info": {
   "name": "python",
   "version": "3.8.5",
   "mimetype": "text/x-python",
   "codemirror_mode": {
    "name": "ipython",
    "version": 3
   },
   "pygments_lexer": "ipython3",
   "nbconvert_exporter": "python",
   "file_extension": ".py"
  },
  "kernelspec": {
   "name": "python3",
   "display_name": "Python 3.8.5 64-bit ('base': conda)"
  },
  "interpreter": {
   "hash": "293c111297a61481508202fcd690d673b0775ece2d2d867b62b8842b676a9a30"
  }
 },
 "nbformat": 4,
 "nbformat_minor": 2
}