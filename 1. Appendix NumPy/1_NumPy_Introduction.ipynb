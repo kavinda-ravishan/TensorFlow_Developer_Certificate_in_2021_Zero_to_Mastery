{
    "cells": [
        {
            "cell_type": "markdown",
            "source": [
                "# NumPy DataTypes and Attributes"
            ],
            "metadata": {}
        },
        {
            "cell_type": "code",
            "execution_count": 1,
            "source": [
                "import numpy as np"
            ],
            "outputs": [],
            "metadata": {}
        },
        {
            "cell_type": "markdown",
            "source": [
                "## NumPy's main datatype is ndarray"
            ],
            "metadata": {}
        },
        {
            "cell_type": "code",
            "execution_count": 2,
            "source": [
                "a1 = np.array([1,2,3])\r\n",
                "a1"
            ],
            "outputs": [
                {
                    "output_type": "execute_result",
                    "data": {
                        "text/plain": [
                            "array([1, 2, 3])"
                        ]
                    },
                    "metadata": {},
                    "execution_count": 2
                }
            ],
            "metadata": {}
        },
        {
            "cell_type": "code",
            "execution_count": 3,
            "source": [
                "type(a1)"
            ],
            "outputs": [
                {
                    "output_type": "execute_result",
                    "data": {
                        "text/plain": [
                            "numpy.ndarray"
                        ]
                    },
                    "metadata": {},
                    "execution_count": 3
                }
            ],
            "metadata": {}
        },
        {
            "cell_type": "code",
            "execution_count": 4,
            "source": [
                "a2 = np.array(\r\n",
                "    [\r\n",
                "        [1.8, 2, 3.6],\r\n",
                "        [4.0, 5, 6.1]\r\n",
                "    ]\r\n",
                ")\r\n",
                "\r\n",
                "a2"
            ],
            "outputs": [
                {
                    "output_type": "execute_result",
                    "data": {
                        "text/plain": [
                            "array([[1.8, 2. , 3.6],\n",
                            "       [4. , 5. , 6.1]])"
                        ]
                    },
                    "metadata": {},
                    "execution_count": 4
                }
            ],
            "metadata": {}
        },
        {
            "cell_type": "code",
            "execution_count": 5,
            "source": [
                "a3 = np.array(\r\n",
                "    [\r\n",
                "        [\r\n",
                "            [1, 2, 3],\r\n",
                "            [3, 4, 5],\r\n",
                "            [6, 7, 8]\r\n",
                "        ],\r\n",
                "        [\r\n",
                "            [10 ,11, 12],\r\n",
                "            [13, 14, 15],\r\n",
                "            [16, 17, 18]\r\n",
                "        ]\r\n",
                "    ],\r\n",
                "    dtype=np.int16\r\n",
                ")\r\n",
                "a3"
            ],
            "outputs": [
                {
                    "output_type": "execute_result",
                    "data": {
                        "text/plain": [
                            "array([[[ 1,  2,  3],\n",
                            "        [ 3,  4,  5],\n",
                            "        [ 6,  7,  8]],\n",
                            "\n",
                            "       [[10, 11, 12],\n",
                            "        [13, 14, 15],\n",
                            "        [16, 17, 18]]], dtype=int16)"
                        ]
                    },
                    "metadata": {},
                    "execution_count": 5
                }
            ],
            "metadata": {}
        },
        {
            "cell_type": "code",
            "execution_count": 6,
            "source": [
                "print(a1.shape)\r\n",
                "print(a2.shape)\r\n",
                "print(a3.shape)"
            ],
            "outputs": [
                {
                    "output_type": "stream",
                    "name": "stdout",
                    "text": [
                        "(3,)\n",
                        "(2, 3)\n",
                        "(2, 3, 3)\n"
                    ]
                }
            ],
            "metadata": {}
        },
        {
            "cell_type": "code",
            "execution_count": 7,
            "source": [
                "a1.ndim, a2.ndim, a3.ndim,"
            ],
            "outputs": [
                {
                    "output_type": "execute_result",
                    "data": {
                        "text/plain": [
                            "(1, 2, 3)"
                        ]
                    },
                    "metadata": {},
                    "execution_count": 7
                }
            ],
            "metadata": {}
        },
        {
            "cell_type": "code",
            "execution_count": 8,
            "source": [
                "a1.dtype, a2.dtype, a3.dtype"
            ],
            "outputs": [
                {
                    "output_type": "execute_result",
                    "data": {
                        "text/plain": [
                            "(dtype('int32'), dtype('float64'), dtype('int16'))"
                        ]
                    },
                    "metadata": {},
                    "execution_count": 8
                }
            ],
            "metadata": {}
        },
        {
            "cell_type": "code",
            "execution_count": 9,
            "source": [
                "a1.size, a2.size, a3.size"
            ],
            "outputs": [
                {
                    "output_type": "execute_result",
                    "data": {
                        "text/plain": [
                            "(3, 6, 18)"
                        ]
                    },
                    "metadata": {},
                    "execution_count": 9
                }
            ],
            "metadata": {}
        },
        {
            "cell_type": "code",
            "execution_count": 10,
            "source": [
                "type(a1), type(a2), type(a3)"
            ],
            "outputs": [
                {
                    "output_type": "execute_result",
                    "data": {
                        "text/plain": [
                            "(numpy.ndarray, numpy.ndarray, numpy.ndarray)"
                        ]
                    },
                    "metadata": {},
                    "execution_count": 10
                }
            ],
            "metadata": {}
        },
        {
            "cell_type": "markdown",
            "source": [
                "## Create a DataFrame form a NumPy Array"
            ],
            "metadata": {}
        },
        {
            "cell_type": "code",
            "execution_count": 11,
            "source": [
                "import pandas as pd"
            ],
            "outputs": [],
            "metadata": {}
        },
        {
            "cell_type": "code",
            "execution_count": 12,
            "source": [
                "df = pd.DataFrame(a2)\r\n",
                "df"
            ],
            "outputs": [
                {
                    "output_type": "execute_result",
                    "data": {
                        "text/plain": [
                            "     0    1    2\n",
                            "0  1.8  2.0  3.6\n",
                            "1  4.0  5.0  6.1"
                        ],
                        "text/html": [
                            "<div>\n",
                            "<style scoped>\n",
                            "    .dataframe tbody tr th:only-of-type {\n",
                            "        vertical-align: middle;\n",
                            "    }\n",
                            "\n",
                            "    .dataframe tbody tr th {\n",
                            "        vertical-align: top;\n",
                            "    }\n",
                            "\n",
                            "    .dataframe thead th {\n",
                            "        text-align: right;\n",
                            "    }\n",
                            "</style>\n",
                            "<table border=\"1\" class=\"dataframe\">\n",
                            "  <thead>\n",
                            "    <tr style=\"text-align: right;\">\n",
                            "      <th></th>\n",
                            "      <th>0</th>\n",
                            "      <th>1</th>\n",
                            "      <th>2</th>\n",
                            "    </tr>\n",
                            "  </thead>\n",
                            "  <tbody>\n",
                            "    <tr>\n",
                            "      <th>0</th>\n",
                            "      <td>1.8</td>\n",
                            "      <td>2.0</td>\n",
                            "      <td>3.6</td>\n",
                            "    </tr>\n",
                            "    <tr>\n",
                            "      <th>1</th>\n",
                            "      <td>4.0</td>\n",
                            "      <td>5.0</td>\n",
                            "      <td>6.1</td>\n",
                            "    </tr>\n",
                            "  </tbody>\n",
                            "</table>\n",
                            "</div>"
                        ]
                    },
                    "metadata": {},
                    "execution_count": 12
                }
            ],
            "metadata": {}
        },
        {
            "cell_type": "markdown",
            "source": [
                "# Creating NumPy Arrays"
            ],
            "metadata": {}
        },
        {
            "cell_type": "code",
            "execution_count": 15,
            "source": [
                "ones = np.ones(2)\r\n",
                "ones"
            ],
            "outputs": [
                {
                    "output_type": "execute_result",
                    "data": {
                        "text/plain": [
                            "array([1., 1.])"
                        ]
                    },
                    "metadata": {},
                    "execution_count": 15
                }
            ],
            "metadata": {}
        },
        {
            "cell_type": "code",
            "execution_count": 16,
            "source": [
                "ones.dtype"
            ],
            "outputs": [
                {
                    "output_type": "execute_result",
                    "data": {
                        "text/plain": [
                            "dtype('float64')"
                        ]
                    },
                    "metadata": {},
                    "execution_count": 16
                }
            ],
            "metadata": {}
        },
        {
            "cell_type": "code",
            "execution_count": 14,
            "source": [
                "ones = np.ones(shape=(2,3), dtype=np.int16)\r\n",
                "ones"
            ],
            "outputs": [
                {
                    "output_type": "execute_result",
                    "data": {
                        "text/plain": [
                            "array([[1, 1, 1],\n",
                            "       [1, 1, 1]], dtype=int16)"
                        ]
                    },
                    "metadata": {},
                    "execution_count": 14
                }
            ],
            "metadata": {}
        },
        {
            "cell_type": "code",
            "execution_count": 17,
            "source": [
                "zeros = np.zeros((2,3))\r\n",
                "zeros"
            ],
            "outputs": [
                {
                    "output_type": "execute_result",
                    "data": {
                        "text/plain": [
                            "array([[0., 0., 0.],\n",
                            "       [0., 0., 0.]])"
                        ]
                    },
                    "metadata": {},
                    "execution_count": 17
                }
            ],
            "metadata": {}
        },
        {
            "cell_type": "code",
            "execution_count": 19,
            "source": [
                "range_array = np.arange(start=0,stop=10,step=2)\r\n",
                "range_array"
            ],
            "outputs": [
                {
                    "output_type": "execute_result",
                    "data": {
                        "text/plain": [
                            "array([0, 2, 4, 6, 8])"
                        ]
                    },
                    "metadata": {},
                    "execution_count": 19
                }
            ],
            "metadata": {}
        },
        {
            "cell_type": "code",
            "execution_count": 21,
            "source": [
                "random_array = np.random.randint(low=0, high=10, size=(3,5))\r\n",
                "random_array"
            ],
            "outputs": [
                {
                    "output_type": "execute_result",
                    "data": {
                        "text/plain": [
                            "array([[7, 5, 5, 7, 9],\n",
                            "       [0, 6, 0, 7, 7],\n",
                            "       [2, 5, 5, 6, 3]])"
                        ]
                    },
                    "metadata": {},
                    "execution_count": 21
                }
            ],
            "metadata": {}
        },
        {
            "cell_type": "code",
            "execution_count": 22,
            "source": [
                "np.random.random(size=(5,5))"
            ],
            "outputs": [
                {
                    "output_type": "execute_result",
                    "data": {
                        "text/plain": [
                            "array([[0.3367005 , 0.17505051, 0.82087142, 0.96536322, 0.34094422],\n",
                            "       [0.65224095, 0.98195555, 0.50584256, 0.5971193 , 0.17546681],\n",
                            "       [0.88550191, 0.6837436 , 0.26447631, 0.70972237, 0.63560594],\n",
                            "       [0.64585878, 0.43748119, 0.92922551, 0.7422982 , 0.59160897],\n",
                            "       [0.47576109, 0.99825157, 0.99579828, 0.6640952 , 0.04120843]])"
                        ]
                    },
                    "metadata": {},
                    "execution_count": 22
                }
            ],
            "metadata": {}
        },
        {
            "cell_type": "code",
            "execution_count": 24,
            "source": [
                "np.random.rand(2,3)"
            ],
            "outputs": [
                {
                    "output_type": "execute_result",
                    "data": {
                        "text/plain": [
                            "array([[0.32491664, 0.70057732, 0.4258745 ],\n",
                            "       [0.49207288, 0.23211732, 0.30314292]])"
                        ]
                    },
                    "metadata": {},
                    "execution_count": 24
                }
            ],
            "metadata": {}
        },
        {
            "cell_type": "markdown",
            "source": [
                "# NumPy Random Seed"
            ],
            "metadata": {}
        },
        {
            "cell_type": "markdown",
            "source": [
                "## Pseudo random numbers"
            ],
            "metadata": {}
        },
        {
            "cell_type": "code",
            "execution_count": 43,
            "source": [
                "np.random.seed(seed=0)\r\n",
                "np.random.randint(10, size=(5,3))"
            ],
            "outputs": [
                {
                    "output_type": "execute_result",
                    "data": {
                        "text/plain": [
                            "array([[5, 0, 3],\n",
                            "       [3, 7, 9],\n",
                            "       [3, 5, 2],\n",
                            "       [4, 7, 6],\n",
                            "       [8, 8, 1]])"
                        ]
                    },
                    "metadata": {},
                    "execution_count": 43
                }
            ],
            "metadata": {}
        },
        {
            "cell_type": "code",
            "execution_count": 44,
            "source": [
                "np.random.seed(seed=0)\r\n",
                "np.random.randint(10, size=(5,3))"
            ],
            "outputs": [
                {
                    "output_type": "execute_result",
                    "data": {
                        "text/plain": [
                            "array([[5, 0, 3],\n",
                            "       [3, 7, 9],\n",
                            "       [3, 5, 2],\n",
                            "       [4, 7, 6],\n",
                            "       [8, 8, 1]])"
                        ]
                    },
                    "metadata": {},
                    "execution_count": 44
                }
            ],
            "metadata": {}
        },
        {
            "cell_type": "code",
            "execution_count": 46,
            "source": [
                "np.random.randint(10, size=(5,3))"
            ],
            "outputs": [
                {
                    "output_type": "execute_result",
                    "data": {
                        "text/plain": [
                            "array([[2, 3, 8],\n",
                            "       [1, 3, 3],\n",
                            "       [3, 7, 0],\n",
                            "       [1, 9, 9],\n",
                            "       [0, 4, 7]])"
                        ]
                    },
                    "metadata": {},
                    "execution_count": 46
                }
            ],
            "metadata": {}
        },
        {
            "cell_type": "code",
            "execution_count": 57,
            "source": [
                "np.random.seed(5)\r\n",
                "np.random.random((5, 3)) "
            ],
            "outputs": [
                {
                    "output_type": "execute_result",
                    "data": {
                        "text/plain": [
                            "array([[0.22199317, 0.87073231, 0.20671916],\n",
                            "       [0.91861091, 0.48841119, 0.61174386],\n",
                            "       [0.76590786, 0.51841799, 0.2968005 ],\n",
                            "       [0.18772123, 0.08074127, 0.7384403 ],\n",
                            "       [0.44130922, 0.15830987, 0.87993703]])"
                        ]
                    },
                    "metadata": {},
                    "execution_count": 57
                }
            ],
            "metadata": {}
        },
        {
            "cell_type": "code",
            "execution_count": null,
            "source": [],
            "outputs": [],
            "metadata": {}
        }
    ],
    "metadata": {
        "orig_nbformat": 4,
        "language_info": {
            "name": "python",
            "version": "3.8.5",
            "mimetype": "text/x-python",
            "codemirror_mode": {
                "name": "ipython",
                "version": 3
            },
            "pygments_lexer": "ipython3",
            "nbconvert_exporter": "python",
            "file_extension": ".py"
        },
        "kernelspec": {
            "name": "python3",
            "display_name": "Python 3.8.5 64-bit ('base': conda)"
        },
        "interpreter": {
            "hash": "293c111297a61481508202fcd690d673b0775ece2d2d867b62b8842b676a9a30"
        }
    },
    "nbformat": 4,
    "nbformat_minor": 2
}