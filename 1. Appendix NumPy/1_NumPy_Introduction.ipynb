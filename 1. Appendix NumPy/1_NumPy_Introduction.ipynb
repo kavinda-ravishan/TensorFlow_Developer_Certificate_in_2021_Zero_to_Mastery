{
    "cells": [
        {
            "cell_type": "markdown",
            "source": [
                "# NumPy DataTypes and Attributes"
            ],
            "metadata": {}
        },
        {
            "cell_type": "code",
            "execution_count": 1,
            "source": [
                "import numpy as np"
            ],
            "outputs": [],
            "metadata": {}
        },
        {
            "cell_type": "markdown",
            "source": [
                "## NumPy's main datatype is ndarray"
            ],
            "metadata": {}
        },
        {
            "cell_type": "code",
            "execution_count": 2,
            "source": [
                "a1 = np.array([1,2,3])\r\n",
                "a1"
            ],
            "outputs": [
                {
                    "output_type": "execute_result",
                    "data": {
                        "text/plain": [
                            "array([1, 2, 3])"
                        ]
                    },
                    "metadata": {},
                    "execution_count": 2
                }
            ],
            "metadata": {}
        },
        {
            "cell_type": "code",
            "execution_count": 3,
            "source": [
                "type(a1)"
            ],
            "outputs": [
                {
                    "output_type": "execute_result",
                    "data": {
                        "text/plain": [
                            "numpy.ndarray"
                        ]
                    },
                    "metadata": {},
                    "execution_count": 3
                }
            ],
            "metadata": {}
        },
        {
            "cell_type": "code",
            "execution_count": 4,
            "source": [
                "a2 = np.array(\r\n",
                "    [\r\n",
                "        [1.8, 2, 3.6],\r\n",
                "        [4.0, 5, 6.1]\r\n",
                "    ]\r\n",
                ")\r\n",
                "\r\n",
                "a2"
            ],
            "outputs": [
                {
                    "output_type": "execute_result",
                    "data": {
                        "text/plain": [
                            "array([[1.8, 2. , 3.6],\n",
                            "       [4. , 5. , 6.1]])"
                        ]
                    },
                    "metadata": {},
                    "execution_count": 4
                }
            ],
            "metadata": {}
        },
        {
            "cell_type": "code",
            "execution_count": 5,
            "source": [
                "a3 = np.array(\r\n",
                "    [\r\n",
                "        [\r\n",
                "            [1, 2, 3],\r\n",
                "            [3, 4, 5],\r\n",
                "            [6, 7, 8]\r\n",
                "        ],\r\n",
                "        [\r\n",
                "            [10 ,11, 12],\r\n",
                "            [13, 14, 15],\r\n",
                "            [16, 17, 18]\r\n",
                "        ]\r\n",
                "    ],\r\n",
                "    dtype=np.int16\r\n",
                ")\r\n",
                "a3"
            ],
            "outputs": [
                {
                    "output_type": "execute_result",
                    "data": {
                        "text/plain": [
                            "array([[[ 1,  2,  3],\n",
                            "        [ 3,  4,  5],\n",
                            "        [ 6,  7,  8]],\n",
                            "\n",
                            "       [[10, 11, 12],\n",
                            "        [13, 14, 15],\n",
                            "        [16, 17, 18]]], dtype=int16)"
                        ]
                    },
                    "metadata": {},
                    "execution_count": 5
                }
            ],
            "metadata": {}
        },
        {
            "cell_type": "code",
            "execution_count": 6,
            "source": [
                "print(a1.shape)\r\n",
                "print(a2.shape)\r\n",
                "print(a3.shape)"
            ],
            "outputs": [
                {
                    "output_type": "stream",
                    "name": "stdout",
                    "text": [
                        "(3,)\n",
                        "(2, 3)\n",
                        "(2, 3, 3)\n"
                    ]
                }
            ],
            "metadata": {}
        },
        {
            "cell_type": "code",
            "execution_count": 7,
            "source": [
                "a1.ndim, a2.ndim, a3.ndim,"
            ],
            "outputs": [
                {
                    "output_type": "execute_result",
                    "data": {
                        "text/plain": [
                            "(1, 2, 3)"
                        ]
                    },
                    "metadata": {},
                    "execution_count": 7
                }
            ],
            "metadata": {}
        },
        {
            "cell_type": "code",
            "execution_count": 8,
            "source": [
                "a1.dtype, a2.dtype, a3.dtype"
            ],
            "outputs": [
                {
                    "output_type": "execute_result",
                    "data": {
                        "text/plain": [
                            "(dtype('int32'), dtype('float64'), dtype('int16'))"
                        ]
                    },
                    "metadata": {},
                    "execution_count": 8
                }
            ],
            "metadata": {}
        },
        {
            "cell_type": "code",
            "execution_count": 9,
            "source": [
                "a1.size, a2.size, a3.size"
            ],
            "outputs": [
                {
                    "output_type": "execute_result",
                    "data": {
                        "text/plain": [
                            "(3, 6, 18)"
                        ]
                    },
                    "metadata": {},
                    "execution_count": 9
                }
            ],
            "metadata": {}
        },
        {
            "cell_type": "code",
            "execution_count": 10,
            "source": [
                "type(a1), type(a2), type(a3)"
            ],
            "outputs": [
                {
                    "output_type": "execute_result",
                    "data": {
                        "text/plain": [
                            "(numpy.ndarray, numpy.ndarray, numpy.ndarray)"
                        ]
                    },
                    "metadata": {},
                    "execution_count": 10
                }
            ],
            "metadata": {}
        },
        {
            "cell_type": "markdown",
            "source": [
                "## Create a DataFrame form a NumPy Array"
            ],
            "metadata": {}
        },
        {
            "cell_type": "code",
            "execution_count": 11,
            "source": [
                "import pandas as pd"
            ],
            "outputs": [],
            "metadata": {}
        },
        {
            "cell_type": "code",
            "execution_count": 12,
            "source": [
                "df = pd.DataFrame(a2)\r\n",
                "df"
            ],
            "outputs": [
                {
                    "output_type": "execute_result",
                    "data": {
                        "text/plain": [
                            "     0    1    2\n",
                            "0  1.8  2.0  3.6\n",
                            "1  4.0  5.0  6.1"
                        ],
                        "text/html": [
                            "<div>\n",
                            "<style scoped>\n",
                            "    .dataframe tbody tr th:only-of-type {\n",
                            "        vertical-align: middle;\n",
                            "    }\n",
                            "\n",
                            "    .dataframe tbody tr th {\n",
                            "        vertical-align: top;\n",
                            "    }\n",
                            "\n",
                            "    .dataframe thead th {\n",
                            "        text-align: right;\n",
                            "    }\n",
                            "</style>\n",
                            "<table border=\"1\" class=\"dataframe\">\n",
                            "  <thead>\n",
                            "    <tr style=\"text-align: right;\">\n",
                            "      <th></th>\n",
                            "      <th>0</th>\n",
                            "      <th>1</th>\n",
                            "      <th>2</th>\n",
                            "    </tr>\n",
                            "  </thead>\n",
                            "  <tbody>\n",
                            "    <tr>\n",
                            "      <th>0</th>\n",
                            "      <td>1.8</td>\n",
                            "      <td>2.0</td>\n",
                            "      <td>3.6</td>\n",
                            "    </tr>\n",
                            "    <tr>\n",
                            "      <th>1</th>\n",
                            "      <td>4.0</td>\n",
                            "      <td>5.0</td>\n",
                            "      <td>6.1</td>\n",
                            "    </tr>\n",
                            "  </tbody>\n",
                            "</table>\n",
                            "</div>"
                        ]
                    },
                    "metadata": {},
                    "execution_count": 12
                }
            ],
            "metadata": {}
        },
        {
            "cell_type": "markdown",
            "source": [
                "# Creating NumPy Arrays"
            ],
            "metadata": {}
        },
        {
            "cell_type": "code",
            "execution_count": 13,
            "source": [
                "ones = np.ones(2)\r\n",
                "ones"
            ],
            "outputs": [
                {
                    "output_type": "execute_result",
                    "data": {
                        "text/plain": [
                            "array([1., 1.])"
                        ]
                    },
                    "metadata": {},
                    "execution_count": 13
                }
            ],
            "metadata": {}
        },
        {
            "cell_type": "code",
            "execution_count": 14,
            "source": [
                "ones.dtype"
            ],
            "outputs": [
                {
                    "output_type": "execute_result",
                    "data": {
                        "text/plain": [
                            "dtype('float64')"
                        ]
                    },
                    "metadata": {},
                    "execution_count": 14
                }
            ],
            "metadata": {}
        },
        {
            "cell_type": "code",
            "execution_count": 15,
            "source": [
                "ones = np.ones(shape=(2,3), dtype=np.int16)\r\n",
                "ones"
            ],
            "outputs": [
                {
                    "output_type": "execute_result",
                    "data": {
                        "text/plain": [
                            "array([[1, 1, 1],\n",
                            "       [1, 1, 1]], dtype=int16)"
                        ]
                    },
                    "metadata": {},
                    "execution_count": 15
                }
            ],
            "metadata": {}
        },
        {
            "cell_type": "code",
            "execution_count": 16,
            "source": [
                "zeros = np.zeros((2,3))\r\n",
                "zeros"
            ],
            "outputs": [
                {
                    "output_type": "execute_result",
                    "data": {
                        "text/plain": [
                            "array([[0., 0., 0.],\n",
                            "       [0., 0., 0.]])"
                        ]
                    },
                    "metadata": {},
                    "execution_count": 16
                }
            ],
            "metadata": {}
        },
        {
            "cell_type": "code",
            "execution_count": 17,
            "source": [
                "range_array = np.arange(start=0,stop=10,step=2)\r\n",
                "range_array"
            ],
            "outputs": [
                {
                    "output_type": "execute_result",
                    "data": {
                        "text/plain": [
                            "array([0, 2, 4, 6, 8])"
                        ]
                    },
                    "metadata": {},
                    "execution_count": 17
                }
            ],
            "metadata": {}
        },
        {
            "cell_type": "code",
            "execution_count": 18,
            "source": [
                "random_array = np.random.randint(low=0, high=10, size=(3,5))\r\n",
                "random_array"
            ],
            "outputs": [
                {
                    "output_type": "execute_result",
                    "data": {
                        "text/plain": [
                            "array([[8, 4, 8, 2, 0],\n",
                            "       [3, 1, 3, 4, 9],\n",
                            "       [6, 1, 3, 1, 9]])"
                        ]
                    },
                    "metadata": {},
                    "execution_count": 18
                }
            ],
            "metadata": {}
        },
        {
            "cell_type": "code",
            "execution_count": 19,
            "source": [
                "np.random.random(size=(5,5))"
            ],
            "outputs": [
                {
                    "output_type": "execute_result",
                    "data": {
                        "text/plain": [
                            "array([[2.38047392e-01, 4.07434857e-01, 2.07674950e-01, 6.10571852e-01,\n",
                            "        7.03649778e-01],\n",
                            "       [9.62239418e-02, 8.44939712e-01, 3.16911842e-01, 5.93586548e-01,\n",
                            "        4.51211730e-01],\n",
                            "       [9.42980795e-01, 6.75526570e-01, 4.65206461e-04, 3.25755291e-01,\n",
                            "        5.03612818e-01],\n",
                            "       [4.66859606e-01, 3.39722029e-01, 7.28337005e-01, 8.60582485e-01,\n",
                            "        9.42055888e-01],\n",
                            "       [1.83767408e-01, 2.16894786e-01, 3.55144814e-01, 9.69633366e-01,\n",
                            "        9.71370198e-01]])"
                        ]
                    },
                    "metadata": {},
                    "execution_count": 19
                }
            ],
            "metadata": {}
        },
        {
            "cell_type": "code",
            "execution_count": 20,
            "source": [
                "np.random.rand(2,3)"
            ],
            "outputs": [
                {
                    "output_type": "execute_result",
                    "data": {
                        "text/plain": [
                            "array([[0.13229133, 0.34733151, 0.75000959],\n",
                            "       [0.82564904, 0.48107554, 0.82965057]])"
                        ]
                    },
                    "metadata": {},
                    "execution_count": 20
                }
            ],
            "metadata": {}
        },
        {
            "cell_type": "markdown",
            "source": [
                "# NumPy Random Seed"
            ],
            "metadata": {}
        },
        {
            "cell_type": "markdown",
            "source": [
                "## Pseudo random numbers"
            ],
            "metadata": {}
        },
        {
            "cell_type": "code",
            "execution_count": 21,
            "source": [
                "np.random.seed(seed=0)\r\n",
                "np.random.randint(10, size=(5,3))"
            ],
            "outputs": [
                {
                    "output_type": "execute_result",
                    "data": {
                        "text/plain": [
                            "array([[5, 0, 3],\n",
                            "       [3, 7, 9],\n",
                            "       [3, 5, 2],\n",
                            "       [4, 7, 6],\n",
                            "       [8, 8, 1]])"
                        ]
                    },
                    "metadata": {},
                    "execution_count": 21
                }
            ],
            "metadata": {}
        },
        {
            "cell_type": "code",
            "execution_count": 22,
            "source": [
                "np.random.seed(seed=0)\r\n",
                "np.random.randint(10, size=(5,3))"
            ],
            "outputs": [
                {
                    "output_type": "execute_result",
                    "data": {
                        "text/plain": [
                            "array([[5, 0, 3],\n",
                            "       [3, 7, 9],\n",
                            "       [3, 5, 2],\n",
                            "       [4, 7, 6],\n",
                            "       [8, 8, 1]])"
                        ]
                    },
                    "metadata": {},
                    "execution_count": 22
                }
            ],
            "metadata": {}
        },
        {
            "cell_type": "code",
            "execution_count": 23,
            "source": [
                "np.random.randint(10, size=(5,3))"
            ],
            "outputs": [
                {
                    "output_type": "execute_result",
                    "data": {
                        "text/plain": [
                            "array([[6, 7, 7],\n",
                            "       [8, 1, 5],\n",
                            "       [9, 8, 9],\n",
                            "       [4, 3, 0],\n",
                            "       [3, 5, 0]])"
                        ]
                    },
                    "metadata": {},
                    "execution_count": 23
                }
            ],
            "metadata": {}
        },
        {
            "cell_type": "code",
            "execution_count": 24,
            "source": [
                "np.random.seed(5)\r\n",
                "np.random.random((5, 3)) "
            ],
            "outputs": [
                {
                    "output_type": "execute_result",
                    "data": {
                        "text/plain": [
                            "array([[0.22199317, 0.87073231, 0.20671916],\n",
                            "       [0.91861091, 0.48841119, 0.61174386],\n",
                            "       [0.76590786, 0.51841799, 0.2968005 ],\n",
                            "       [0.18772123, 0.08074127, 0.7384403 ],\n",
                            "       [0.44130922, 0.15830987, 0.87993703]])"
                        ]
                    },
                    "metadata": {},
                    "execution_count": 24
                }
            ],
            "metadata": {}
        },
        {
            "cell_type": "markdown",
            "source": [
                "# Viewing Arrays and Matrices"
            ],
            "metadata": {}
        },
        {
            "cell_type": "code",
            "execution_count": 25,
            "source": [
                "random_array = np.random.randint(0,10,(3,3))\r\n",
                "random_array"
            ],
            "outputs": [
                {
                    "output_type": "execute_result",
                    "data": {
                        "text/plain": [
                            "array([[4, 6, 2],\n",
                            "       [9, 9, 9],\n",
                            "       [9, 1, 2]])"
                        ]
                    },
                    "metadata": {},
                    "execution_count": 25
                }
            ],
            "metadata": {}
        },
        {
            "cell_type": "code",
            "execution_count": 26,
            "source": [
                "np.unique(random_array)"
            ],
            "outputs": [
                {
                    "output_type": "execute_result",
                    "data": {
                        "text/plain": [
                            "array([1, 2, 4, 6, 9])"
                        ]
                    },
                    "metadata": {},
                    "execution_count": 26
                }
            ],
            "metadata": {}
        },
        {
            "cell_type": "code",
            "execution_count": 27,
            "source": [
                "a1[0]"
            ],
            "outputs": [
                {
                    "output_type": "execute_result",
                    "data": {
                        "text/plain": [
                            "1"
                        ]
                    },
                    "metadata": {},
                    "execution_count": 27
                }
            ],
            "metadata": {}
        },
        {
            "cell_type": "code",
            "execution_count": 28,
            "source": [
                "a2[0]"
            ],
            "outputs": [
                {
                    "output_type": "execute_result",
                    "data": {
                        "text/plain": [
                            "array([1.8, 2. , 3.6])"
                        ]
                    },
                    "metadata": {},
                    "execution_count": 28
                }
            ],
            "metadata": {}
        },
        {
            "cell_type": "code",
            "execution_count": 29,
            "source": [
                "a3"
            ],
            "outputs": [
                {
                    "output_type": "execute_result",
                    "data": {
                        "text/plain": [
                            "array([[[ 1,  2,  3],\n",
                            "        [ 3,  4,  5],\n",
                            "        [ 6,  7,  8]],\n",
                            "\n",
                            "       [[10, 11, 12],\n",
                            "        [13, 14, 15],\n",
                            "        [16, 17, 18]]], dtype=int16)"
                        ]
                    },
                    "metadata": {},
                    "execution_count": 29
                }
            ],
            "metadata": {}
        },
        {
            "cell_type": "code",
            "execution_count": 30,
            "source": [
                "a3[0]"
            ],
            "outputs": [
                {
                    "output_type": "execute_result",
                    "data": {
                        "text/plain": [
                            "array([[1, 2, 3],\n",
                            "       [3, 4, 5],\n",
                            "       [6, 7, 8]], dtype=int16)"
                        ]
                    },
                    "metadata": {},
                    "execution_count": 30
                }
            ],
            "metadata": {}
        },
        {
            "cell_type": "code",
            "execution_count": 31,
            "source": [
                "a3[:2,:2,:2]"
            ],
            "outputs": [
                {
                    "output_type": "execute_result",
                    "data": {
                        "text/plain": [
                            "array([[[ 1,  2],\n",
                            "        [ 3,  4]],\n",
                            "\n",
                            "       [[10, 11],\n",
                            "        [13, 14]]], dtype=int16)"
                        ]
                    },
                    "metadata": {},
                    "execution_count": 31
                }
            ],
            "metadata": {}
        },
        {
            "cell_type": "code",
            "execution_count": 32,
            "source": [
                "a3[:,:,:2]"
            ],
            "outputs": [
                {
                    "output_type": "execute_result",
                    "data": {
                        "text/plain": [
                            "array([[[ 1,  2],\n",
                            "        [ 3,  4],\n",
                            "        [ 6,  7]],\n",
                            "\n",
                            "       [[10, 11],\n",
                            "        [13, 14],\n",
                            "        [16, 17]]], dtype=int16)"
                        ]
                    },
                    "metadata": {},
                    "execution_count": 32
                }
            ],
            "metadata": {}
        },
        {
            "cell_type": "markdown",
            "source": [
                "# Manipulating Arrays"
            ],
            "metadata": {}
        },
        {
            "cell_type": "markdown",
            "source": [
                "## Arithmetic"
            ],
            "metadata": {}
        },
        {
            "cell_type": "code",
            "execution_count": 33,
            "source": [
                "a1"
            ],
            "outputs": [
                {
                    "output_type": "execute_result",
                    "data": {
                        "text/plain": [
                            "array([1, 2, 3])"
                        ]
                    },
                    "metadata": {},
                    "execution_count": 33
                }
            ],
            "metadata": {}
        },
        {
            "cell_type": "code",
            "execution_count": 34,
            "source": [
                "ones = np.ones(3)\r\n",
                "ones"
            ],
            "outputs": [
                {
                    "output_type": "execute_result",
                    "data": {
                        "text/plain": [
                            "array([1., 1., 1.])"
                        ]
                    },
                    "metadata": {},
                    "execution_count": 34
                }
            ],
            "metadata": {}
        },
        {
            "cell_type": "code",
            "execution_count": 35,
            "source": [
                "a1 + ones"
            ],
            "outputs": [
                {
                    "output_type": "execute_result",
                    "data": {
                        "text/plain": [
                            "array([2., 3., 4.])"
                        ]
                    },
                    "metadata": {},
                    "execution_count": 35
                }
            ],
            "metadata": {}
        },
        {
            "cell_type": "code",
            "execution_count": 36,
            "source": [
                "a1 - ones"
            ],
            "outputs": [
                {
                    "output_type": "execute_result",
                    "data": {
                        "text/plain": [
                            "array([0., 1., 2.])"
                        ]
                    },
                    "metadata": {},
                    "execution_count": 36
                }
            ],
            "metadata": {}
        },
        {
            "cell_type": "code",
            "execution_count": 37,
            "source": [
                "a1 * ones"
            ],
            "outputs": [
                {
                    "output_type": "execute_result",
                    "data": {
                        "text/plain": [
                            "array([1., 2., 3.])"
                        ]
                    },
                    "metadata": {},
                    "execution_count": 37
                }
            ],
            "metadata": {}
        },
        {
            "cell_type": "code",
            "execution_count": 38,
            "source": [
                "a1"
            ],
            "outputs": [
                {
                    "output_type": "execute_result",
                    "data": {
                        "text/plain": [
                            "array([1, 2, 3])"
                        ]
                    },
                    "metadata": {},
                    "execution_count": 38
                }
            ],
            "metadata": {}
        },
        {
            "cell_type": "code",
            "execution_count": 39,
            "source": [
                "a2"
            ],
            "outputs": [
                {
                    "output_type": "execute_result",
                    "data": {
                        "text/plain": [
                            "array([[1.8, 2. , 3.6],\n",
                            "       [4. , 5. , 6.1]])"
                        ]
                    },
                    "metadata": {},
                    "execution_count": 39
                }
            ],
            "metadata": {}
        },
        {
            "cell_type": "code",
            "execution_count": 40,
            "source": [
                "a1 * a2"
            ],
            "outputs": [
                {
                    "output_type": "execute_result",
                    "data": {
                        "text/plain": [
                            "array([[ 1.8,  4. , 10.8],\n",
                            "       [ 4. , 10. , 18.3]])"
                        ]
                    },
                    "metadata": {},
                    "execution_count": 40
                }
            ],
            "metadata": {}
        },
        {
            "cell_type": "code",
            "execution_count": 41,
            "source": [
                "a1.shape, a2.shape"
            ],
            "outputs": [
                {
                    "output_type": "execute_result",
                    "data": {
                        "text/plain": [
                            "((3,), (2, 3))"
                        ]
                    },
                    "metadata": {},
                    "execution_count": 41
                }
            ],
            "metadata": {}
        },
        {
            "cell_type": "code",
            "execution_count": 42,
            "source": [
                "# (2, 3)\r\n",
                "# ( , 3)"
            ],
            "outputs": [],
            "metadata": {}
        },
        {
            "cell_type": "code",
            "execution_count": 43,
            "source": [
                "a3*a1"
            ],
            "outputs": [
                {
                    "output_type": "execute_result",
                    "data": {
                        "text/plain": [
                            "array([[[ 1,  4,  9],\n",
                            "        [ 3,  8, 15],\n",
                            "        [ 6, 14, 24]],\n",
                            "\n",
                            "       [[10, 22, 36],\n",
                            "        [13, 28, 45],\n",
                            "        [16, 34, 54]]])"
                        ]
                    },
                    "metadata": {},
                    "execution_count": 43
                }
            ],
            "metadata": {}
        },
        {
            "cell_type": "code",
            "execution_count": 44,
            "source": [
                "a3"
            ],
            "outputs": [
                {
                    "output_type": "execute_result",
                    "data": {
                        "text/plain": [
                            "array([[[ 1,  2,  3],\n",
                            "        [ 3,  4,  5],\n",
                            "        [ 6,  7,  8]],\n",
                            "\n",
                            "       [[10, 11, 12],\n",
                            "        [13, 14, 15],\n",
                            "        [16, 17, 18]]], dtype=int16)"
                        ]
                    },
                    "metadata": {},
                    "execution_count": 44
                }
            ],
            "metadata": {}
        },
        {
            "cell_type": "code",
            "execution_count": 45,
            "source": [
                "a4 = np.ones(shape=(3,3))*2\r\n",
                "a4"
            ],
            "outputs": [
                {
                    "output_type": "execute_result",
                    "data": {
                        "text/plain": [
                            "array([[2., 2., 2.],\n",
                            "       [2., 2., 2.],\n",
                            "       [2., 2., 2.]])"
                        ]
                    },
                    "metadata": {},
                    "execution_count": 45
                }
            ],
            "metadata": {}
        },
        {
            "cell_type": "code",
            "execution_count": 46,
            "source": [
                "a3*a4"
            ],
            "outputs": [
                {
                    "output_type": "execute_result",
                    "data": {
                        "text/plain": [
                            "array([[[ 2.,  4.,  6.],\n",
                            "        [ 6.,  8., 10.],\n",
                            "        [12., 14., 16.]],\n",
                            "\n",
                            "       [[20., 22., 24.],\n",
                            "        [26., 28., 30.],\n",
                            "        [32., 34., 36.]]])"
                        ]
                    },
                    "metadata": {},
                    "execution_count": 46
                }
            ],
            "metadata": {}
        },
        {
            "cell_type": "code",
            "execution_count": 47,
            "source": [
                "a3.shape, a4.shape"
            ],
            "outputs": [
                {
                    "output_type": "execute_result",
                    "data": {
                        "text/plain": [
                            "((2, 3, 3), (3, 3))"
                        ]
                    },
                    "metadata": {},
                    "execution_count": 47
                }
            ],
            "metadata": {}
        },
        {
            "cell_type": "code",
            "execution_count": 48,
            "source": [
                "# (2, 3, 3) \r\n",
                "# ( , 3, 3)"
            ],
            "outputs": [],
            "metadata": {}
        },
        {
            "cell_type": "code",
            "execution_count": 49,
            "source": [
                "print(a1)\r\n",
                "print(ones)\r\n",
                "a1/ones"
            ],
            "outputs": [
                {
                    "output_type": "stream",
                    "name": "stdout",
                    "text": [
                        "[1 2 3]\n",
                        "[1. 1. 1.]\n"
                    ]
                },
                {
                    "output_type": "execute_result",
                    "data": {
                        "text/plain": [
                            "array([1., 2., 3.])"
                        ]
                    },
                    "metadata": {},
                    "execution_count": 49
                }
            ],
            "metadata": {}
        },
        {
            "cell_type": "code",
            "execution_count": 50,
            "source": [
                "print(a2)\r\n",
                "print(a1)\r\n",
                "# floor division remove the decimal (rounds down)\r\n",
                "print(a2 / a1)\r\n",
                "print(a2 // a1)"
            ],
            "outputs": [
                {
                    "output_type": "stream",
                    "name": "stdout",
                    "text": [
                        "[[1.8 2.  3.6]\n",
                        " [4.  5.  6.1]]\n",
                        "[1 2 3]\n",
                        "[[1.8        1.         1.2       ]\n",
                        " [4.         2.5        2.03333333]]\n",
                        "[[1. 1. 1.]\n",
                        " [4. 2. 2.]]\n"
                    ]
                }
            ],
            "metadata": {}
        },
        {
            "cell_type": "code",
            "execution_count": 51,
            "source": [
                "print(a1)\r\n",
                "print(a1 ** 2)\r\n",
                "print(np.square(a1))"
            ],
            "outputs": [
                {
                    "output_type": "stream",
                    "name": "stdout",
                    "text": [
                        "[1 2 3]\n",
                        "[1 4 9]\n",
                        "[1 4 9]\n"
                    ]
                }
            ],
            "metadata": {}
        },
        {
            "cell_type": "code",
            "execution_count": 52,
            "source": [
                "np.add(a1, ones)"
            ],
            "outputs": [
                {
                    "output_type": "execute_result",
                    "data": {
                        "text/plain": [
                            "array([2., 3., 4.])"
                        ]
                    },
                    "metadata": {},
                    "execution_count": 52
                }
            ],
            "metadata": {}
        },
        {
            "cell_type": "code",
            "execution_count": 53,
            "source": [
                "a1 % 2"
            ],
            "outputs": [
                {
                    "output_type": "execute_result",
                    "data": {
                        "text/plain": [
                            "array([1, 0, 1], dtype=int32)"
                        ]
                    },
                    "metadata": {},
                    "execution_count": 53
                }
            ],
            "metadata": {}
        },
        {
            "cell_type": "code",
            "execution_count": 54,
            "source": [
                "np.exp(a1)"
            ],
            "outputs": [
                {
                    "output_type": "execute_result",
                    "data": {
                        "text/plain": [
                            "array([ 2.71828183,  7.3890561 , 20.08553692])"
                        ]
                    },
                    "metadata": {},
                    "execution_count": 54
                }
            ],
            "metadata": {}
        },
        {
            "cell_type": "code",
            "execution_count": 55,
            "source": [
                "np.log(a1)"
            ],
            "outputs": [
                {
                    "output_type": "execute_result",
                    "data": {
                        "text/plain": [
                            "array([0.        , 0.69314718, 1.09861229])"
                        ]
                    },
                    "metadata": {},
                    "execution_count": 55
                }
            ],
            "metadata": {}
        },
        {
            "cell_type": "markdown",
            "source": [
                "## Aggregation\r\n",
                "### Performing the same operation on number of things"
            ],
            "metadata": {}
        },
        {
            "cell_type": "code",
            "execution_count": 56,
            "source": [
                "listy_list = [1, 2, 3]\r\n",
                "print(type(listy_list))\r\n",
                "print(sum(listy_list))"
            ],
            "outputs": [
                {
                    "output_type": "stream",
                    "name": "stdout",
                    "text": [
                        "<class 'list'>\n",
                        "6\n"
                    ]
                }
            ],
            "metadata": {}
        },
        {
            "cell_type": "code",
            "execution_count": 57,
            "source": [
                "type(a1)"
            ],
            "outputs": [
                {
                    "output_type": "execute_result",
                    "data": {
                        "text/plain": [
                            "numpy.ndarray"
                        ]
                    },
                    "metadata": {},
                    "execution_count": 57
                }
            ],
            "metadata": {}
        },
        {
            "cell_type": "code",
            "execution_count": 58,
            "source": [
                "sum(a1), np.sum(a1)"
            ],
            "outputs": [
                {
                    "output_type": "execute_result",
                    "data": {
                        "text/plain": [
                            "(6, 6)"
                        ]
                    },
                    "metadata": {},
                    "execution_count": 58
                }
            ],
            "metadata": {}
        },
        {
            "cell_type": "markdown",
            "source": [
                "### Use python's methods (`sum()`) for python datatypes\r\n",
                "### Use NumPy's methods (`np.sum()`) for NumPy datatypes"
            ],
            "metadata": {}
        },
        {
            "cell_type": "code",
            "execution_count": 59,
            "source": [
                "massive_array = np.random.random(100000)\r\n",
                "massive_array[:5]"
            ],
            "outputs": [
                {
                    "output_type": "execute_result",
                    "data": {
                        "text/plain": [
                            "array([0.01458075, 0.09336303, 0.82655425, 0.83349274, 0.89241102])"
                        ]
                    },
                    "metadata": {},
                    "execution_count": 59
                }
            ],
            "metadata": {}
        },
        {
            "cell_type": "code",
            "execution_count": 60,
            "source": [
                "%timeit sum(massive_array)\r\n",
                "%timeit np.sum(massive_array)"
            ],
            "outputs": [
                {
                    "output_type": "stream",
                    "name": "stdout",
                    "text": [
                        "43.5 ms ± 7.26 ms per loop (mean ± std. dev. of 7 runs, 10 loops each)\n",
                        "109 µs ± 10.6 µs per loop (mean ± std. dev. of 7 runs, 10000 loops each)\n"
                    ]
                }
            ],
            "metadata": {}
        },
        {
            "cell_type": "code",
            "execution_count": 61,
            "source": [
                "np.mean(a2), np.std(a2),np.sqrt(np.var(a2)), np.var(a2), np.square(np.std(a2)) "
            ],
            "outputs": [
                {
                    "output_type": "execute_result",
                    "data": {
                        "text/plain": [
                            "(3.75,\n",
                            " 1.5294334463018213,\n",
                            " 1.5294334463018213,\n",
                            " 2.339166666666666,\n",
                            " 2.339166666666666)"
                        ]
                    },
                    "metadata": {},
                    "execution_count": 61
                }
            ],
            "metadata": {}
        },
        {
            "cell_type": "code",
            "execution_count": 62,
            "source": [
                "np.max(a2), np.min(a2)"
            ],
            "outputs": [
                {
                    "output_type": "execute_result",
                    "data": {
                        "text/plain": [
                            "(6.1, 1.8)"
                        ]
                    },
                    "metadata": {},
                    "execution_count": 62
                }
            ],
            "metadata": {}
        },
        {
            "cell_type": "markdown",
            "source": [
                "# Standard Deviation and Variance"
            ],
            "metadata": {}
        },
        {
            "cell_type": "code",
            "execution_count": 63,
            "source": [
                "high_var_array = [1, 100, 200, 300, 4000, 5000]\r\n",
                "low_var_array = [2, 4, 6, 8, 10]"
            ],
            "outputs": [],
            "metadata": {}
        },
        {
            "cell_type": "code",
            "execution_count": 64,
            "source": [
                "np.mean(high_var_array), np.mean(low_var_array)"
            ],
            "outputs": [
                {
                    "output_type": "execute_result",
                    "data": {
                        "text/plain": [
                            "(1600.1666666666667, 6.0)"
                        ]
                    },
                    "metadata": {},
                    "execution_count": 64
                }
            ],
            "metadata": {}
        },
        {
            "cell_type": "code",
            "execution_count": 65,
            "source": [
                "np.var(high_var_array), np.var(low_var_array)"
            ],
            "outputs": [
                {
                    "output_type": "execute_result",
                    "data": {
                        "text/plain": [
                            "(4296133.472222221, 8.0)"
                        ]
                    },
                    "metadata": {},
                    "execution_count": 65
                }
            ],
            "metadata": {}
        },
        {
            "cell_type": "code",
            "execution_count": 66,
            "source": [
                "np.std(high_var_array), np.std(low_var_array)"
            ],
            "outputs": [
                {
                    "output_type": "execute_result",
                    "data": {
                        "text/plain": [
                            "(2072.711623024829, 2.8284271247461903)"
                        ]
                    },
                    "metadata": {},
                    "execution_count": 66
                }
            ],
            "metadata": {}
        },
        {
            "cell_type": "code",
            "execution_count": 67,
            "source": [
                "mean = np.sum(low_var_array)/len(low_var_array)\r\n",
                "var = np.sum(np.square(low_var_array - mean))/len(low_var_array)\r\n",
                "std = np.sqrt(var)\r\n",
                "\r\n",
                "mean, var, std"
            ],
            "outputs": [
                {
                    "output_type": "execute_result",
                    "data": {
                        "text/plain": [
                            "(6.0, 8.0, 2.8284271247461903)"
                        ]
                    },
                    "metadata": {},
                    "execution_count": 67
                }
            ],
            "metadata": {}
        },
        {
            "cell_type": "markdown",
            "source": [
                "# Reshape and Transpose"
            ],
            "metadata": {}
        },
        {
            "cell_type": "code",
            "execution_count": 68,
            "source": [
                "a2"
            ],
            "outputs": [
                {
                    "output_type": "execute_result",
                    "data": {
                        "text/plain": [
                            "array([[1.8, 2. , 3.6],\n",
                            "       [4. , 5. , 6.1]])"
                        ]
                    },
                    "metadata": {},
                    "execution_count": 68
                }
            ],
            "metadata": {}
        },
        {
            "cell_type": "code",
            "execution_count": 69,
            "source": [
                "a2.reshape(1,-1)"
            ],
            "outputs": [
                {
                    "output_type": "execute_result",
                    "data": {
                        "text/plain": [
                            "array([[1.8, 2. , 3.6, 4. , 5. , 6.1]])"
                        ]
                    },
                    "metadata": {},
                    "execution_count": 69
                }
            ],
            "metadata": {}
        },
        {
            "cell_type": "code",
            "execution_count": 70,
            "source": [
                "a2.shape"
            ],
            "outputs": [
                {
                    "output_type": "execute_result",
                    "data": {
                        "text/plain": [
                            "(2, 3)"
                        ]
                    },
                    "metadata": {},
                    "execution_count": 70
                }
            ],
            "metadata": {}
        },
        {
            "cell_type": "code",
            "execution_count": 71,
            "source": [
                "a2_reshape = a2.reshape(2,3,1)\r\n",
                "a2_reshape, a2_reshape.shape"
            ],
            "outputs": [
                {
                    "output_type": "execute_result",
                    "data": {
                        "text/plain": [
                            "(array([[[1.8],\n",
                            "         [2. ],\n",
                            "         [3.6]],\n",
                            " \n",
                            "        [[4. ],\n",
                            "         [5. ],\n",
                            "         [6.1]]]),\n",
                            " (2, 3, 1))"
                        ]
                    },
                    "metadata": {},
                    "execution_count": 71
                }
            ],
            "metadata": {}
        },
        {
            "cell_type": "code",
            "execution_count": 72,
            "source": [
                "a3, a3.shape"
            ],
            "outputs": [
                {
                    "output_type": "execute_result",
                    "data": {
                        "text/plain": [
                            "(array([[[ 1,  2,  3],\n",
                            "         [ 3,  4,  5],\n",
                            "         [ 6,  7,  8]],\n",
                            " \n",
                            "        [[10, 11, 12],\n",
                            "         [13, 14, 15],\n",
                            "         [16, 17, 18]]], dtype=int16),\n",
                            " (2, 3, 3))"
                        ]
                    },
                    "metadata": {},
                    "execution_count": 72
                }
            ],
            "metadata": {}
        },
        {
            "cell_type": "code",
            "execution_count": 73,
            "source": [
                "a3 * a2_reshape"
            ],
            "outputs": [
                {
                    "output_type": "execute_result",
                    "data": {
                        "text/plain": [
                            "array([[[  1.8,   3.6,   5.4],\n",
                            "        [  6. ,   8. ,  10. ],\n",
                            "        [ 21.6,  25.2,  28.8]],\n",
                            "\n",
                            "       [[ 40. ,  44. ,  48. ],\n",
                            "        [ 65. ,  70. ,  75. ],\n",
                            "        [ 97.6, 103.7, 109.8]]])"
                        ]
                    },
                    "metadata": {},
                    "execution_count": 73
                }
            ],
            "metadata": {}
        },
        {
            "cell_type": "code",
            "execution_count": 74,
            "source": [
                "a2, a2.shape"
            ],
            "outputs": [
                {
                    "output_type": "execute_result",
                    "data": {
                        "text/plain": [
                            "(array([[1.8, 2. , 3.6],\n",
                            "        [4. , 5. , 6.1]]),\n",
                            " (2, 3))"
                        ]
                    },
                    "metadata": {},
                    "execution_count": 74
                }
            ],
            "metadata": {}
        },
        {
            "cell_type": "code",
            "execution_count": 75,
            "source": [
                "a2.T, a2.T.shape"
            ],
            "outputs": [
                {
                    "output_type": "execute_result",
                    "data": {
                        "text/plain": [
                            "(array([[1.8, 4. ],\n",
                            "        [2. , 5. ],\n",
                            "        [3.6, 6.1]]),\n",
                            " (3, 2))"
                        ]
                    },
                    "metadata": {},
                    "execution_count": 75
                }
            ],
            "metadata": {}
        },
        {
            "cell_type": "markdown",
            "source": [
                "# Dot Product vs Element Wise"
            ],
            "metadata": {}
        },
        {
            "cell_type": "code",
            "execution_count": 76,
            "source": [
                "np.random.seed(0)\r\n",
                "mat1 = np.random.randint(10, size=(5,3))\r\n",
                "mat2 = np.random.randint(10, size=(5,3))\r\n",
                "\r\n",
                "mat1, mat2, (mat1 * mat2) # Element-wise multiplication (Hadamard product) or np.multiply(mat1, mat2)"
            ],
            "outputs": [
                {
                    "output_type": "execute_result",
                    "data": {
                        "text/plain": [
                            "(array([[5, 0, 3],\n",
                            "        [3, 7, 9],\n",
                            "        [3, 5, 2],\n",
                            "        [4, 7, 6],\n",
                            "        [8, 8, 1]]),\n",
                            " array([[6, 7, 7],\n",
                            "        [8, 1, 5],\n",
                            "        [9, 8, 9],\n",
                            "        [4, 3, 0],\n",
                            "        [3, 5, 0]]),\n",
                            " array([[30,  0, 21],\n",
                            "        [24,  7, 45],\n",
                            "        [27, 40, 18],\n",
                            "        [16, 21,  0],\n",
                            "        [24, 40,  0]]))"
                        ]
                    },
                    "metadata": {},
                    "execution_count": 76
                }
            ],
            "metadata": {}
        },
        {
            "cell_type": "code",
            "execution_count": 77,
            "source": [
                "(mat1.shape, mat2.T.shape), (mat1.T.shape, mat2.shape)"
            ],
            "outputs": [
                {
                    "output_type": "execute_result",
                    "data": {
                        "text/plain": [
                            "(((5, 3), (3, 5)), ((3, 5), (5, 3)))"
                        ]
                    },
                    "metadata": {},
                    "execution_count": 77
                }
            ],
            "metadata": {}
        },
        {
            "cell_type": "code",
            "execution_count": 78,
            "source": [
                "# Dot product\r\n",
                "np.dot(mat1, mat2.T), np.dot(mat1.T, mat2)"
            ],
            "outputs": [
                {
                    "output_type": "execute_result",
                    "data": {
                        "text/plain": [
                            "(array([[ 51,  55,  72,  20,  15],\n",
                            "        [130,  76, 164,  33,  44],\n",
                            "        [ 67,  39,  85,  27,  34],\n",
                            "        [115,  69, 146,  37,  47],\n",
                            "        [111,  77, 145,  56,  64]]),\n",
                            " array([[121, 114,  77],\n",
                            "        [153, 108,  80],\n",
                            "        [135,  69,  84]]))"
                        ]
                    },
                    "metadata": {},
                    "execution_count": 78
                }
            ],
            "metadata": {}
        },
        {
            "cell_type": "markdown",
            "source": [
                "# Exercise Nut Butter Store Sales"
            ],
            "metadata": {}
        },
        {
            "cell_type": "code",
            "execution_count": 79,
            "source": [
                "'''\r\n",
                "day      | almond butter | cashew butter | peanut butter | daily sales\r\n",
                "________________________________________________________________\r\n",
                "Monday   |        2              7               1           88\r\n",
                "Tuesday  |        9              4              16          314\r\n",
                "Wednesday|       11             14              18          438\r\n",
                "Thursday |       13             13              16          426\r\n",
                "Friday   |       15             18               9          402\r\n",
                "\r\n",
                "\r\n",
                "   _    | almond butter | cashew butter | peanut butter\r\n",
                "_______________________________________________________\r\n",
                "price          10               8               12\r\n",
                "'''"
            ],
            "outputs": [
                {
                    "output_type": "execute_result",
                    "data": {
                        "text/plain": [
                            "'\\nday      | almond butter | cashew butter | peanut butter | daily sales\\n________________________________________________________________\\nMonday   |        2              7               1           88\\nTuesday  |        9              4              16          314\\nWednesday|       11             14              18          438\\nThursday |       13             13              16          426\\nFriday   |       15             18               9          402\\n\\n\\n   _    | almond butter | cashew butter | peanut butter\\n_______________________________________________________\\nprice          10               8               12\\n'"
                        ]
                    },
                    "metadata": {},
                    "execution_count": 79
                }
            ],
            "metadata": {}
        },
        {
            "cell_type": "code",
            "execution_count": 80,
            "source": [
                "Nut_Butter_Store_Sales = pd.DataFrame(\r\n",
                "    [\r\n",
                "        [2, 7, 1],\r\n",
                "        [9, 4, 16],\r\n",
                "        [11, 14, 18],\r\n",
                "        [13, 13, 16],\r\n",
                "        [15, 18, 9]\r\n",
                "    ],\r\n",
                "    index=['Monday', 'Tuesday', 'Wednesday', 'Thursday', 'Friday'],\r\n",
                "    columns=['almond butter', 'cashew butter', 'peanut butter']\r\n",
                ")\r\n",
                "\r\n",
                "Nut_Butter_Store_Sales"
            ],
            "outputs": [
                {
                    "output_type": "execute_result",
                    "data": {
                        "text/plain": [
                            "           almond butter  cashew butter  peanut butter\n",
                            "Monday                 2              7              1\n",
                            "Tuesday                9              4             16\n",
                            "Wednesday             11             14             18\n",
                            "Thursday              13             13             16\n",
                            "Friday                15             18              9"
                        ],
                        "text/html": [
                            "<div>\n",
                            "<style scoped>\n",
                            "    .dataframe tbody tr th:only-of-type {\n",
                            "        vertical-align: middle;\n",
                            "    }\n",
                            "\n",
                            "    .dataframe tbody tr th {\n",
                            "        vertical-align: top;\n",
                            "    }\n",
                            "\n",
                            "    .dataframe thead th {\n",
                            "        text-align: right;\n",
                            "    }\n",
                            "</style>\n",
                            "<table border=\"1\" class=\"dataframe\">\n",
                            "  <thead>\n",
                            "    <tr style=\"text-align: right;\">\n",
                            "      <th></th>\n",
                            "      <th>almond butter</th>\n",
                            "      <th>cashew butter</th>\n",
                            "      <th>peanut butter</th>\n",
                            "    </tr>\n",
                            "  </thead>\n",
                            "  <tbody>\n",
                            "    <tr>\n",
                            "      <th>Monday</th>\n",
                            "      <td>2</td>\n",
                            "      <td>7</td>\n",
                            "      <td>1</td>\n",
                            "    </tr>\n",
                            "    <tr>\n",
                            "      <th>Tuesday</th>\n",
                            "      <td>9</td>\n",
                            "      <td>4</td>\n",
                            "      <td>16</td>\n",
                            "    </tr>\n",
                            "    <tr>\n",
                            "      <th>Wednesday</th>\n",
                            "      <td>11</td>\n",
                            "      <td>14</td>\n",
                            "      <td>18</td>\n",
                            "    </tr>\n",
                            "    <tr>\n",
                            "      <th>Thursday</th>\n",
                            "      <td>13</td>\n",
                            "      <td>13</td>\n",
                            "      <td>16</td>\n",
                            "    </tr>\n",
                            "    <tr>\n",
                            "      <th>Friday</th>\n",
                            "      <td>15</td>\n",
                            "      <td>18</td>\n",
                            "      <td>9</td>\n",
                            "    </tr>\n",
                            "  </tbody>\n",
                            "</table>\n",
                            "</div>"
                        ]
                    },
                    "metadata": {},
                    "execution_count": 80
                }
            ],
            "metadata": {}
        },
        {
            "cell_type": "code",
            "execution_count": 81,
            "source": [
                "Nut_Butter_Price = pd.DataFrame(\r\n",
                "    np.array([10, 8, 12]).reshape(1,-1),\r\n",
                "#   np.array([10, 8, 12]).reshape(1, 3),\r\n",
                "    index=['price'],\r\n",
                "    columns=['almond butter', 'cashew butter', 'peanut butter']\r\n",
                ")\r\n",
                "\r\n",
                "Nut_Butter_Price"
            ],
            "outputs": [
                {
                    "output_type": "execute_result",
                    "data": {
                        "text/plain": [
                            "       almond butter  cashew butter  peanut butter\n",
                            "price             10              8             12"
                        ],
                        "text/html": [
                            "<div>\n",
                            "<style scoped>\n",
                            "    .dataframe tbody tr th:only-of-type {\n",
                            "        vertical-align: middle;\n",
                            "    }\n",
                            "\n",
                            "    .dataframe tbody tr th {\n",
                            "        vertical-align: top;\n",
                            "    }\n",
                            "\n",
                            "    .dataframe thead th {\n",
                            "        text-align: right;\n",
                            "    }\n",
                            "</style>\n",
                            "<table border=\"1\" class=\"dataframe\">\n",
                            "  <thead>\n",
                            "    <tr style=\"text-align: right;\">\n",
                            "      <th></th>\n",
                            "      <th>almond butter</th>\n",
                            "      <th>cashew butter</th>\n",
                            "      <th>peanut butter</th>\n",
                            "    </tr>\n",
                            "  </thead>\n",
                            "  <tbody>\n",
                            "    <tr>\n",
                            "      <th>price</th>\n",
                            "      <td>10</td>\n",
                            "      <td>8</td>\n",
                            "      <td>12</td>\n",
                            "    </tr>\n",
                            "  </tbody>\n",
                            "</table>\n",
                            "</div>"
                        ]
                    },
                    "metadata": {},
                    "execution_count": 81
                }
            ],
            "metadata": {}
        },
        {
            "cell_type": "code",
            "execution_count": 82,
            "source": [
                "daily_sales = np.dot(Nut_Butter_Store_Sales.values, Nut_Butter_Price.values.T)\r\n",
                "daily_sales"
            ],
            "outputs": [
                {
                    "output_type": "execute_result",
                    "data": {
                        "text/plain": [
                            "array([[ 88],\n",
                            "       [314],\n",
                            "       [438],\n",
                            "       [426],\n",
                            "       [402]], dtype=int64)"
                        ]
                    },
                    "metadata": {},
                    "execution_count": 82
                }
            ],
            "metadata": {}
        },
        {
            "cell_type": "code",
            "execution_count": 83,
            "source": [
                "Nut_Butter_Store_Sales['daily sales'] = daily_sales\r\n",
                "\r\n",
                "Nut_Butter_Store_Sales"
            ],
            "outputs": [
                {
                    "output_type": "execute_result",
                    "data": {
                        "text/plain": [
                            "           almond butter  cashew butter  peanut butter  daily sales\n",
                            "Monday                 2              7              1           88\n",
                            "Tuesday                9              4             16          314\n",
                            "Wednesday             11             14             18          438\n",
                            "Thursday              13             13             16          426\n",
                            "Friday                15             18              9          402"
                        ],
                        "text/html": [
                            "<div>\n",
                            "<style scoped>\n",
                            "    .dataframe tbody tr th:only-of-type {\n",
                            "        vertical-align: middle;\n",
                            "    }\n",
                            "\n",
                            "    .dataframe tbody tr th {\n",
                            "        vertical-align: top;\n",
                            "    }\n",
                            "\n",
                            "    .dataframe thead th {\n",
                            "        text-align: right;\n",
                            "    }\n",
                            "</style>\n",
                            "<table border=\"1\" class=\"dataframe\">\n",
                            "  <thead>\n",
                            "    <tr style=\"text-align: right;\">\n",
                            "      <th></th>\n",
                            "      <th>almond butter</th>\n",
                            "      <th>cashew butter</th>\n",
                            "      <th>peanut butter</th>\n",
                            "      <th>daily sales</th>\n",
                            "    </tr>\n",
                            "  </thead>\n",
                            "  <tbody>\n",
                            "    <tr>\n",
                            "      <th>Monday</th>\n",
                            "      <td>2</td>\n",
                            "      <td>7</td>\n",
                            "      <td>1</td>\n",
                            "      <td>88</td>\n",
                            "    </tr>\n",
                            "    <tr>\n",
                            "      <th>Tuesday</th>\n",
                            "      <td>9</td>\n",
                            "      <td>4</td>\n",
                            "      <td>16</td>\n",
                            "      <td>314</td>\n",
                            "    </tr>\n",
                            "    <tr>\n",
                            "      <th>Wednesday</th>\n",
                            "      <td>11</td>\n",
                            "      <td>14</td>\n",
                            "      <td>18</td>\n",
                            "      <td>438</td>\n",
                            "    </tr>\n",
                            "    <tr>\n",
                            "      <th>Thursday</th>\n",
                            "      <td>13</td>\n",
                            "      <td>13</td>\n",
                            "      <td>16</td>\n",
                            "      <td>426</td>\n",
                            "    </tr>\n",
                            "    <tr>\n",
                            "      <th>Friday</th>\n",
                            "      <td>15</td>\n",
                            "      <td>18</td>\n",
                            "      <td>9</td>\n",
                            "      <td>402</td>\n",
                            "    </tr>\n",
                            "  </tbody>\n",
                            "</table>\n",
                            "</div>"
                        ]
                    },
                    "metadata": {},
                    "execution_count": 83
                }
            ],
            "metadata": {}
        },
        {
            "cell_type": "markdown",
            "source": [
                "# Comparison Operators"
            ],
            "metadata": {}
        },
        {
            "cell_type": "code",
            "execution_count": 84,
            "source": [
                "a1, a2"
            ],
            "outputs": [
                {
                    "output_type": "execute_result",
                    "data": {
                        "text/plain": [
                            "(array([1, 2, 3]),\n",
                            " array([[1.8, 2. , 3.6],\n",
                            "        [4. , 5. , 6.1]]))"
                        ]
                    },
                    "metadata": {},
                    "execution_count": 84
                }
            ],
            "metadata": {}
        },
        {
            "cell_type": "code",
            "execution_count": 85,
            "source": [
                "(a1 > a2), (a1 > a2).sum() "
            ],
            "outputs": [
                {
                    "output_type": "execute_result",
                    "data": {
                        "text/plain": [
                            "(array([[False, False, False],\n",
                            "        [False, False, False]]),\n",
                            " 0)"
                        ]
                    },
                    "metadata": {},
                    "execution_count": 85
                }
            ],
            "metadata": {}
        },
        {
            "cell_type": "code",
            "execution_count": 86,
            "source": [
                "(a1 >= a2), (a1 >= a2).sum() "
            ],
            "outputs": [
                {
                    "output_type": "execute_result",
                    "data": {
                        "text/plain": [
                            "(array([[False,  True, False],\n",
                            "        [False, False, False]]),\n",
                            " 1)"
                        ]
                    },
                    "metadata": {},
                    "execution_count": 86
                }
            ],
            "metadata": {}
        },
        {
            "cell_type": "code",
            "execution_count": 87,
            "source": [
                "a1 > 1"
            ],
            "outputs": [
                {
                    "output_type": "execute_result",
                    "data": {
                        "text/plain": [
                            "array([False,  True,  True])"
                        ]
                    },
                    "metadata": {},
                    "execution_count": 87
                }
            ],
            "metadata": {}
        },
        {
            "cell_type": "code",
            "execution_count": 88,
            "source": [
                "a1 == 1"
            ],
            "outputs": [
                {
                    "output_type": "execute_result",
                    "data": {
                        "text/plain": [
                            "array([ True, False, False])"
                        ]
                    },
                    "metadata": {},
                    "execution_count": 88
                }
            ],
            "metadata": {}
        },
        {
            "cell_type": "code",
            "execution_count": 89,
            "source": [
                "a1 == a2"
            ],
            "outputs": [
                {
                    "output_type": "execute_result",
                    "data": {
                        "text/plain": [
                            "array([[False,  True, False],\n",
                            "       [False, False, False]])"
                        ]
                    },
                    "metadata": {},
                    "execution_count": 89
                }
            ],
            "metadata": {}
        },
        {
            "cell_type": "markdown",
            "source": [
                "# Sorting Arrays"
            ],
            "metadata": {}
        },
        {
            "cell_type": "code",
            "execution_count": 90,
            "source": [
                "random_array = np.random.randint(10,size=(3,5))\r\n",
                "random_array"
            ],
            "outputs": [
                {
                    "output_type": "execute_result",
                    "data": {
                        "text/plain": [
                            "array([[2, 3, 8, 1, 3],\n",
                            "       [3, 3, 7, 0, 1],\n",
                            "       [9, 9, 0, 4, 7]])"
                        ]
                    },
                    "metadata": {},
                    "execution_count": 90
                }
            ],
            "metadata": {}
        },
        {
            "cell_type": "code",
            "execution_count": 91,
            "source": [
                "np.sort(random_array, axis=0)"
            ],
            "outputs": [
                {
                    "output_type": "execute_result",
                    "data": {
                        "text/plain": [
                            "array([[2, 3, 0, 0, 1],\n",
                            "       [3, 3, 7, 1, 3],\n",
                            "       [9, 9, 8, 4, 7]])"
                        ]
                    },
                    "metadata": {},
                    "execution_count": 91
                }
            ],
            "metadata": {}
        },
        {
            "cell_type": "code",
            "execution_count": 92,
            "source": [
                "np.sort(random_array, axis=1)"
            ],
            "outputs": [
                {
                    "output_type": "execute_result",
                    "data": {
                        "text/plain": [
                            "array([[1, 2, 3, 3, 8],\n",
                            "       [0, 1, 3, 3, 7],\n",
                            "       [0, 4, 7, 9, 9]])"
                        ]
                    },
                    "metadata": {},
                    "execution_count": 92
                }
            ],
            "metadata": {}
        },
        {
            "cell_type": "code",
            "execution_count": 93,
            "source": [
                "random_array ,np.argsort(random_array)"
            ],
            "outputs": [
                {
                    "output_type": "execute_result",
                    "data": {
                        "text/plain": [
                            "(array([[2, 3, 8, 1, 3],\n",
                            "        [3, 3, 7, 0, 1],\n",
                            "        [9, 9, 0, 4, 7]]),\n",
                            " array([[3, 0, 1, 4, 2],\n",
                            "        [3, 4, 0, 1, 2],\n",
                            "        [2, 3, 4, 0, 1]], dtype=int64))"
                        ]
                    },
                    "metadata": {},
                    "execution_count": 93
                }
            ],
            "metadata": {}
        },
        {
            "cell_type": "code",
            "execution_count": 94,
            "source": [
                "a1"
            ],
            "outputs": [
                {
                    "output_type": "execute_result",
                    "data": {
                        "text/plain": [
                            "array([1, 2, 3])"
                        ]
                    },
                    "metadata": {},
                    "execution_count": 94
                }
            ],
            "metadata": {}
        },
        {
            "cell_type": "code",
            "execution_count": 95,
            "source": [
                "a1.argsort()"
            ],
            "outputs": [
                {
                    "output_type": "execute_result",
                    "data": {
                        "text/plain": [
                            "array([0, 1, 2], dtype=int64)"
                        ]
                    },
                    "metadata": {},
                    "execution_count": 95
                }
            ],
            "metadata": {}
        },
        {
            "cell_type": "code",
            "execution_count": 96,
            "source": [
                "a1.argmin()"
            ],
            "outputs": [
                {
                    "output_type": "execute_result",
                    "data": {
                        "text/plain": [
                            "0"
                        ]
                    },
                    "metadata": {},
                    "execution_count": 96
                }
            ],
            "metadata": {}
        },
        {
            "cell_type": "code",
            "execution_count": 97,
            "source": [
                "a1.argmax()"
            ],
            "outputs": [
                {
                    "output_type": "execute_result",
                    "data": {
                        "text/plain": [
                            "2"
                        ]
                    },
                    "metadata": {},
                    "execution_count": 97
                }
            ],
            "metadata": {}
        },
        {
            "cell_type": "code",
            "execution_count": 98,
            "source": [
                "random_array.argmax(axis=0)"
            ],
            "outputs": [
                {
                    "output_type": "execute_result",
                    "data": {
                        "text/plain": [
                            "array([2, 2, 0, 2, 2], dtype=int64)"
                        ]
                    },
                    "metadata": {},
                    "execution_count": 98
                }
            ],
            "metadata": {}
        },
        {
            "cell_type": "markdown",
            "source": [
                "# Turn Images Into NumPy Arrays"
            ],
            "metadata": {}
        },
        {
            "cell_type": "markdown",
            "source": [
                "<img src='panda.png'/>"
            ],
            "metadata": {}
        },
        {
            "cell_type": "code",
            "execution_count": 99,
            "source": [
                "from matplotlib.image import imread"
            ],
            "outputs": [],
            "metadata": {}
        },
        {
            "cell_type": "code",
            "execution_count": 103,
            "source": [
                "panda = imread('panda.png')\r\n",
                "panda.shape, type(panda)"
            ],
            "outputs": [
                {
                    "output_type": "execute_result",
                    "data": {
                        "text/plain": [
                            "((2330, 3500, 3), numpy.ndarray)"
                        ]
                    },
                    "metadata": {},
                    "execution_count": 103
                }
            ],
            "metadata": {}
        },
        {
            "cell_type": "code",
            "execution_count": 105,
            "source": [
                "panda[:1]"
            ],
            "outputs": [
                {
                    "output_type": "execute_result",
                    "data": {
                        "text/plain": [
                            "array([[[0.05490196, 0.10588235, 0.06666667],\n",
                            "        [0.05490196, 0.10588235, 0.06666667],\n",
                            "        [0.05490196, 0.10588235, 0.06666667],\n",
                            "        ...,\n",
                            "        [0.16470589, 0.12941177, 0.09411765],\n",
                            "        [0.16470589, 0.12941177, 0.09411765],\n",
                            "        [0.16470589, 0.12941177, 0.09411765]]], dtype=float32)"
                        ]
                    },
                    "metadata": {},
                    "execution_count": 105
                }
            ],
            "metadata": {}
        }
    ],
    "metadata": {
        "orig_nbformat": 4,
        "language_info": {
            "name": "python",
            "version": "3.8.5",
            "mimetype": "text/x-python",
            "codemirror_mode": {
                "name": "ipython",
                "version": 3
            },
            "pygments_lexer": "ipython3",
            "nbconvert_exporter": "python",
            "file_extension": ".py"
        },
        "kernelspec": {
            "name": "python3",
            "display_name": "Python 3.8.5 64-bit ('base': conda)"
        },
        "interpreter": {
            "hash": "293c111297a61481508202fcd690d673b0775ece2d2d867b62b8842b676a9a30"
        }
    },
    "nbformat": 4,
    "nbformat_minor": 2
}