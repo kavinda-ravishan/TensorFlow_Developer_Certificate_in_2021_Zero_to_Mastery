{
    "cells": [
        {
            "cell_type": "markdown",
            "source": [
                "# NumPy DataTypes and Attributes"
            ],
            "metadata": {}
        },
        {
            "cell_type": "code",
            "execution_count": 1,
            "source": [
                "import numpy as np"
            ],
            "outputs": [],
            "metadata": {}
        },
        {
            "cell_type": "markdown",
            "source": [
                "## NumPy's main datatype is ndarray"
            ],
            "metadata": {}
        },
        {
            "cell_type": "code",
            "execution_count": 2,
            "source": [
                "a1 = np.array([1,2,3])\r\n",
                "a1"
            ],
            "outputs": [
                {
                    "output_type": "execute_result",
                    "data": {
                        "text/plain": [
                            "array([1, 2, 3])"
                        ]
                    },
                    "metadata": {},
                    "execution_count": 2
                }
            ],
            "metadata": {}
        },
        {
            "cell_type": "code",
            "execution_count": 3,
            "source": [
                "type(a1)"
            ],
            "outputs": [
                {
                    "output_type": "execute_result",
                    "data": {
                        "text/plain": [
                            "numpy.ndarray"
                        ]
                    },
                    "metadata": {},
                    "execution_count": 3
                }
            ],
            "metadata": {}
        },
        {
            "cell_type": "code",
            "execution_count": 4,
            "source": [
                "a2 = np.array(\r\n",
                "    [\r\n",
                "        [1.8, 2, 3.6],\r\n",
                "        [4.0, 5, 6.1]\r\n",
                "    ]\r\n",
                ")\r\n",
                "\r\n",
                "a2"
            ],
            "outputs": [
                {
                    "output_type": "execute_result",
                    "data": {
                        "text/plain": [
                            "array([[1.8, 2. , 3.6],\n",
                            "       [4. , 5. , 6.1]])"
                        ]
                    },
                    "metadata": {},
                    "execution_count": 4
                }
            ],
            "metadata": {}
        },
        {
            "cell_type": "code",
            "execution_count": 5,
            "source": [
                "a3 = np.array(\r\n",
                "    [\r\n",
                "        [\r\n",
                "            [1, 2, 3],\r\n",
                "            [3, 4, 5],\r\n",
                "            [6, 7, 8]\r\n",
                "        ],\r\n",
                "        [\r\n",
                "            [10 ,11, 12],\r\n",
                "            [13, 14, 15],\r\n",
                "            [16, 17, 18]\r\n",
                "        ]\r\n",
                "    ],\r\n",
                "    dtype=np.int16\r\n",
                ")\r\n",
                "a3"
            ],
            "outputs": [
                {
                    "output_type": "execute_result",
                    "data": {
                        "text/plain": [
                            "array([[[ 1,  2,  3],\n",
                            "        [ 3,  4,  5],\n",
                            "        [ 6,  7,  8]],\n",
                            "\n",
                            "       [[10, 11, 12],\n",
                            "        [13, 14, 15],\n",
                            "        [16, 17, 18]]], dtype=int16)"
                        ]
                    },
                    "metadata": {},
                    "execution_count": 5
                }
            ],
            "metadata": {}
        },
        {
            "cell_type": "code",
            "execution_count": 6,
            "source": [
                "print(a1.shape)\r\n",
                "print(a2.shape)\r\n",
                "print(a3.shape)"
            ],
            "outputs": [
                {
                    "output_type": "stream",
                    "name": "stdout",
                    "text": [
                        "(3,)\n",
                        "(2, 3)\n",
                        "(2, 3, 3)\n"
                    ]
                }
            ],
            "metadata": {}
        },
        {
            "cell_type": "code",
            "execution_count": 7,
            "source": [
                "a1.ndim, a2.ndim, a3.ndim,"
            ],
            "outputs": [
                {
                    "output_type": "execute_result",
                    "data": {
                        "text/plain": [
                            "(1, 2, 3)"
                        ]
                    },
                    "metadata": {},
                    "execution_count": 7
                }
            ],
            "metadata": {}
        },
        {
            "cell_type": "code",
            "execution_count": 8,
            "source": [
                "a1.dtype, a2.dtype, a3.dtype"
            ],
            "outputs": [
                {
                    "output_type": "execute_result",
                    "data": {
                        "text/plain": [
                            "(dtype('int32'), dtype('float64'), dtype('int16'))"
                        ]
                    },
                    "metadata": {},
                    "execution_count": 8
                }
            ],
            "metadata": {}
        },
        {
            "cell_type": "code",
            "execution_count": 9,
            "source": [
                "a1.size, a2.size, a3.size"
            ],
            "outputs": [
                {
                    "output_type": "execute_result",
                    "data": {
                        "text/plain": [
                            "(3, 6, 18)"
                        ]
                    },
                    "metadata": {},
                    "execution_count": 9
                }
            ],
            "metadata": {}
        },
        {
            "cell_type": "code",
            "execution_count": 10,
            "source": [
                "type(a1), type(a2), type(a3)"
            ],
            "outputs": [
                {
                    "output_type": "execute_result",
                    "data": {
                        "text/plain": [
                            "(numpy.ndarray, numpy.ndarray, numpy.ndarray)"
                        ]
                    },
                    "metadata": {},
                    "execution_count": 10
                }
            ],
            "metadata": {}
        },
        {
            "cell_type": "markdown",
            "source": [
                "## Create a DataFrame form a NumPy Array"
            ],
            "metadata": {}
        },
        {
            "cell_type": "code",
            "execution_count": 11,
            "source": [
                "import pandas as pd"
            ],
            "outputs": [],
            "metadata": {}
        },
        {
            "cell_type": "code",
            "execution_count": 12,
            "source": [
                "df = pd.DataFrame(a2)\r\n",
                "df"
            ],
            "outputs": [
                {
                    "output_type": "execute_result",
                    "data": {
                        "text/plain": [
                            "     0    1    2\n",
                            "0  1.8  2.0  3.6\n",
                            "1  4.0  5.0  6.1"
                        ],
                        "text/html": [
                            "<div>\n",
                            "<style scoped>\n",
                            "    .dataframe tbody tr th:only-of-type {\n",
                            "        vertical-align: middle;\n",
                            "    }\n",
                            "\n",
                            "    .dataframe tbody tr th {\n",
                            "        vertical-align: top;\n",
                            "    }\n",
                            "\n",
                            "    .dataframe thead th {\n",
                            "        text-align: right;\n",
                            "    }\n",
                            "</style>\n",
                            "<table border=\"1\" class=\"dataframe\">\n",
                            "  <thead>\n",
                            "    <tr style=\"text-align: right;\">\n",
                            "      <th></th>\n",
                            "      <th>0</th>\n",
                            "      <th>1</th>\n",
                            "      <th>2</th>\n",
                            "    </tr>\n",
                            "  </thead>\n",
                            "  <tbody>\n",
                            "    <tr>\n",
                            "      <th>0</th>\n",
                            "      <td>1.8</td>\n",
                            "      <td>2.0</td>\n",
                            "      <td>3.6</td>\n",
                            "    </tr>\n",
                            "    <tr>\n",
                            "      <th>1</th>\n",
                            "      <td>4.0</td>\n",
                            "      <td>5.0</td>\n",
                            "      <td>6.1</td>\n",
                            "    </tr>\n",
                            "  </tbody>\n",
                            "</table>\n",
                            "</div>"
                        ]
                    },
                    "metadata": {},
                    "execution_count": 12
                }
            ],
            "metadata": {}
        },
        {
            "cell_type": "markdown",
            "source": [
                "# Creating NumPy Arrays"
            ],
            "metadata": {}
        },
        {
            "cell_type": "code",
            "execution_count": 13,
            "source": [
                "ones = np.ones(2)\r\n",
                "ones"
            ],
            "outputs": [
                {
                    "output_type": "execute_result",
                    "data": {
                        "text/plain": [
                            "array([1., 1.])"
                        ]
                    },
                    "metadata": {},
                    "execution_count": 13
                }
            ],
            "metadata": {}
        },
        {
            "cell_type": "code",
            "execution_count": 14,
            "source": [
                "ones.dtype"
            ],
            "outputs": [
                {
                    "output_type": "execute_result",
                    "data": {
                        "text/plain": [
                            "dtype('float64')"
                        ]
                    },
                    "metadata": {},
                    "execution_count": 14
                }
            ],
            "metadata": {}
        },
        {
            "cell_type": "code",
            "execution_count": 15,
            "source": [
                "ones = np.ones(shape=(2,3), dtype=np.int16)\r\n",
                "ones"
            ],
            "outputs": [
                {
                    "output_type": "execute_result",
                    "data": {
                        "text/plain": [
                            "array([[1, 1, 1],\n",
                            "       [1, 1, 1]], dtype=int16)"
                        ]
                    },
                    "metadata": {},
                    "execution_count": 15
                }
            ],
            "metadata": {}
        },
        {
            "cell_type": "code",
            "execution_count": 16,
            "source": [
                "zeros = np.zeros((2,3))\r\n",
                "zeros"
            ],
            "outputs": [
                {
                    "output_type": "execute_result",
                    "data": {
                        "text/plain": [
                            "array([[0., 0., 0.],\n",
                            "       [0., 0., 0.]])"
                        ]
                    },
                    "metadata": {},
                    "execution_count": 16
                }
            ],
            "metadata": {}
        },
        {
            "cell_type": "code",
            "execution_count": 17,
            "source": [
                "range_array = np.arange(start=0,stop=10,step=2)\r\n",
                "range_array"
            ],
            "outputs": [
                {
                    "output_type": "execute_result",
                    "data": {
                        "text/plain": [
                            "array([0, 2, 4, 6, 8])"
                        ]
                    },
                    "metadata": {},
                    "execution_count": 17
                }
            ],
            "metadata": {}
        },
        {
            "cell_type": "code",
            "execution_count": 18,
            "source": [
                "random_array = np.random.randint(low=0, high=10, size=(3,5))\r\n",
                "random_array"
            ],
            "outputs": [
                {
                    "output_type": "execute_result",
                    "data": {
                        "text/plain": [
                            "array([[4, 6, 7, 4, 3],\n",
                            "       [1, 6, 5, 0, 5],\n",
                            "       [5, 6, 4, 7, 1]])"
                        ]
                    },
                    "metadata": {},
                    "execution_count": 18
                }
            ],
            "metadata": {}
        },
        {
            "cell_type": "code",
            "execution_count": 19,
            "source": [
                "np.random.random(size=(5,5))"
            ],
            "outputs": [
                {
                    "output_type": "execute_result",
                    "data": {
                        "text/plain": [
                            "array([[5.79707549e-01, 9.07962975e-01, 4.41678238e-01, 8.53225368e-01,\n",
                            "        3.46462731e-01],\n",
                            "       [2.39592617e-01, 6.38471049e-01, 3.79285755e-01, 6.57546656e-01,\n",
                            "        7.39659735e-01],\n",
                            "       [3.33280309e-01, 1.65495017e-02, 4.51063076e-01, 9.94463719e-01,\n",
                            "        6.07698094e-01],\n",
                            "       [3.30197025e-01, 2.45791020e-01, 4.62550453e-02, 1.93882451e-01,\n",
                            "        4.33175851e-04],\n",
                            "       [1.88432953e-01, 9.31841291e-01, 7.65660130e-01, 9.94955900e-01,\n",
                            "        6.41637281e-01]])"
                        ]
                    },
                    "metadata": {},
                    "execution_count": 19
                }
            ],
            "metadata": {}
        },
        {
            "cell_type": "code",
            "execution_count": 20,
            "source": [
                "np.random.rand(2,3)"
            ],
            "outputs": [
                {
                    "output_type": "execute_result",
                    "data": {
                        "text/plain": [
                            "array([[0.17853674, 0.35935591, 0.14338479],\n",
                            "       [0.99978761, 0.11701667, 0.48792675]])"
                        ]
                    },
                    "metadata": {},
                    "execution_count": 20
                }
            ],
            "metadata": {}
        },
        {
            "cell_type": "markdown",
            "source": [
                "# NumPy Random Seed"
            ],
            "metadata": {}
        },
        {
            "cell_type": "markdown",
            "source": [
                "## Pseudo random numbers"
            ],
            "metadata": {}
        },
        {
            "cell_type": "code",
            "execution_count": 21,
            "source": [
                "np.random.seed(seed=0)\r\n",
                "np.random.randint(10, size=(5,3))"
            ],
            "outputs": [
                {
                    "output_type": "execute_result",
                    "data": {
                        "text/plain": [
                            "array([[5, 0, 3],\n",
                            "       [3, 7, 9],\n",
                            "       [3, 5, 2],\n",
                            "       [4, 7, 6],\n",
                            "       [8, 8, 1]])"
                        ]
                    },
                    "metadata": {},
                    "execution_count": 21
                }
            ],
            "metadata": {}
        },
        {
            "cell_type": "code",
            "execution_count": 22,
            "source": [
                "np.random.seed(seed=0)\r\n",
                "np.random.randint(10, size=(5,3))"
            ],
            "outputs": [
                {
                    "output_type": "execute_result",
                    "data": {
                        "text/plain": [
                            "array([[5, 0, 3],\n",
                            "       [3, 7, 9],\n",
                            "       [3, 5, 2],\n",
                            "       [4, 7, 6],\n",
                            "       [8, 8, 1]])"
                        ]
                    },
                    "metadata": {},
                    "execution_count": 22
                }
            ],
            "metadata": {}
        },
        {
            "cell_type": "code",
            "execution_count": 23,
            "source": [
                "np.random.randint(10, size=(5,3))"
            ],
            "outputs": [
                {
                    "output_type": "execute_result",
                    "data": {
                        "text/plain": [
                            "array([[6, 7, 7],\n",
                            "       [8, 1, 5],\n",
                            "       [9, 8, 9],\n",
                            "       [4, 3, 0],\n",
                            "       [3, 5, 0]])"
                        ]
                    },
                    "metadata": {},
                    "execution_count": 23
                }
            ],
            "metadata": {}
        },
        {
            "cell_type": "code",
            "execution_count": 24,
            "source": [
                "np.random.seed(5)\r\n",
                "np.random.random((5, 3)) "
            ],
            "outputs": [
                {
                    "output_type": "execute_result",
                    "data": {
                        "text/plain": [
                            "array([[0.22199317, 0.87073231, 0.20671916],\n",
                            "       [0.91861091, 0.48841119, 0.61174386],\n",
                            "       [0.76590786, 0.51841799, 0.2968005 ],\n",
                            "       [0.18772123, 0.08074127, 0.7384403 ],\n",
                            "       [0.44130922, 0.15830987, 0.87993703]])"
                        ]
                    },
                    "metadata": {},
                    "execution_count": 24
                }
            ],
            "metadata": {}
        },
        {
            "cell_type": "markdown",
            "source": [
                "# Viewing Arrays and Matrices"
            ],
            "metadata": {}
        },
        {
            "cell_type": "code",
            "execution_count": 25,
            "source": [
                "random_array = np.random.randint(0,10,(3,3))\r\n",
                "random_array"
            ],
            "outputs": [
                {
                    "output_type": "execute_result",
                    "data": {
                        "text/plain": [
                            "array([[4, 6, 2],\n",
                            "       [9, 9, 9],\n",
                            "       [9, 1, 2]])"
                        ]
                    },
                    "metadata": {},
                    "execution_count": 25
                }
            ],
            "metadata": {}
        },
        {
            "cell_type": "code",
            "execution_count": 26,
            "source": [
                "np.unique(random_array)"
            ],
            "outputs": [
                {
                    "output_type": "execute_result",
                    "data": {
                        "text/plain": [
                            "array([1, 2, 4, 6, 9])"
                        ]
                    },
                    "metadata": {},
                    "execution_count": 26
                }
            ],
            "metadata": {}
        },
        {
            "cell_type": "code",
            "execution_count": 27,
            "source": [
                "a1[0]"
            ],
            "outputs": [
                {
                    "output_type": "execute_result",
                    "data": {
                        "text/plain": [
                            "1"
                        ]
                    },
                    "metadata": {},
                    "execution_count": 27
                }
            ],
            "metadata": {}
        },
        {
            "cell_type": "code",
            "execution_count": 28,
            "source": [
                "a2[0]"
            ],
            "outputs": [
                {
                    "output_type": "execute_result",
                    "data": {
                        "text/plain": [
                            "array([1.8, 2. , 3.6])"
                        ]
                    },
                    "metadata": {},
                    "execution_count": 28
                }
            ],
            "metadata": {}
        },
        {
            "cell_type": "code",
            "execution_count": 29,
            "source": [
                "a3"
            ],
            "outputs": [
                {
                    "output_type": "execute_result",
                    "data": {
                        "text/plain": [
                            "array([[[ 1,  2,  3],\n",
                            "        [ 3,  4,  5],\n",
                            "        [ 6,  7,  8]],\n",
                            "\n",
                            "       [[10, 11, 12],\n",
                            "        [13, 14, 15],\n",
                            "        [16, 17, 18]]], dtype=int16)"
                        ]
                    },
                    "metadata": {},
                    "execution_count": 29
                }
            ],
            "metadata": {}
        },
        {
            "cell_type": "code",
            "execution_count": 30,
            "source": [
                "a3[0]"
            ],
            "outputs": [
                {
                    "output_type": "execute_result",
                    "data": {
                        "text/plain": [
                            "array([[1, 2, 3],\n",
                            "       [3, 4, 5],\n",
                            "       [6, 7, 8]], dtype=int16)"
                        ]
                    },
                    "metadata": {},
                    "execution_count": 30
                }
            ],
            "metadata": {}
        },
        {
            "cell_type": "code",
            "execution_count": 31,
            "source": [
                "a3[:2,:2,:2]"
            ],
            "outputs": [
                {
                    "output_type": "execute_result",
                    "data": {
                        "text/plain": [
                            "array([[[ 1,  2],\n",
                            "        [ 3,  4]],\n",
                            "\n",
                            "       [[10, 11],\n",
                            "        [13, 14]]], dtype=int16)"
                        ]
                    },
                    "metadata": {},
                    "execution_count": 31
                }
            ],
            "metadata": {}
        },
        {
            "cell_type": "code",
            "execution_count": 32,
            "source": [
                "a3[:,:,:2]"
            ],
            "outputs": [
                {
                    "output_type": "execute_result",
                    "data": {
                        "text/plain": [
                            "array([[[ 1,  2],\n",
                            "        [ 3,  4],\n",
                            "        [ 6,  7]],\n",
                            "\n",
                            "       [[10, 11],\n",
                            "        [13, 14],\n",
                            "        [16, 17]]], dtype=int16)"
                        ]
                    },
                    "metadata": {},
                    "execution_count": 32
                }
            ],
            "metadata": {}
        },
        {
            "cell_type": "markdown",
            "source": [
                "# Manipulating Arrays"
            ],
            "metadata": {}
        },
        {
            "cell_type": "markdown",
            "source": [
                "## Arithmetic"
            ],
            "metadata": {}
        },
        {
            "cell_type": "code",
            "execution_count": 33,
            "source": [
                "a1"
            ],
            "outputs": [
                {
                    "output_type": "execute_result",
                    "data": {
                        "text/plain": [
                            "array([1, 2, 3])"
                        ]
                    },
                    "metadata": {},
                    "execution_count": 33
                }
            ],
            "metadata": {}
        },
        {
            "cell_type": "code",
            "execution_count": 36,
            "source": [
                "ones = np.ones(3)\r\n",
                "ones"
            ],
            "outputs": [
                {
                    "output_type": "execute_result",
                    "data": {
                        "text/plain": [
                            "array([1., 1., 1.])"
                        ]
                    },
                    "metadata": {},
                    "execution_count": 36
                }
            ],
            "metadata": {}
        },
        {
            "cell_type": "code",
            "execution_count": 37,
            "source": [
                "a1 + ones"
            ],
            "outputs": [
                {
                    "output_type": "execute_result",
                    "data": {
                        "text/plain": [
                            "array([2., 3., 4.])"
                        ]
                    },
                    "metadata": {},
                    "execution_count": 37
                }
            ],
            "metadata": {}
        },
        {
            "cell_type": "code",
            "execution_count": 38,
            "source": [
                "a1 - ones"
            ],
            "outputs": [
                {
                    "output_type": "execute_result",
                    "data": {
                        "text/plain": [
                            "array([0., 1., 2.])"
                        ]
                    },
                    "metadata": {},
                    "execution_count": 38
                }
            ],
            "metadata": {}
        },
        {
            "cell_type": "code",
            "execution_count": 39,
            "source": [
                "a1 * ones"
            ],
            "outputs": [
                {
                    "output_type": "execute_result",
                    "data": {
                        "text/plain": [
                            "array([1., 2., 3.])"
                        ]
                    },
                    "metadata": {},
                    "execution_count": 39
                }
            ],
            "metadata": {}
        },
        {
            "cell_type": "code",
            "execution_count": 40,
            "source": [
                "a1"
            ],
            "outputs": [
                {
                    "output_type": "execute_result",
                    "data": {
                        "text/plain": [
                            "array([1, 2, 3])"
                        ]
                    },
                    "metadata": {},
                    "execution_count": 40
                }
            ],
            "metadata": {}
        },
        {
            "cell_type": "code",
            "execution_count": 42,
            "source": [
                "a2"
            ],
            "outputs": [
                {
                    "output_type": "execute_result",
                    "data": {
                        "text/plain": [
                            "array([[1.8, 2. , 3.6],\n",
                            "       [4. , 5. , 6.1]])"
                        ]
                    },
                    "metadata": {},
                    "execution_count": 42
                }
            ],
            "metadata": {}
        },
        {
            "cell_type": "code",
            "execution_count": 47,
            "source": [
                "a1 * a2"
            ],
            "outputs": [
                {
                    "output_type": "execute_result",
                    "data": {
                        "text/plain": [
                            "array([[ 1.8,  4. , 10.8],\n",
                            "       [ 4. , 10. , 18.3]])"
                        ]
                    },
                    "metadata": {},
                    "execution_count": 47
                }
            ],
            "metadata": {}
        },
        {
            "cell_type": "code",
            "execution_count": 48,
            "source": [
                "a1.shape, a2.shape"
            ],
            "outputs": [
                {
                    "output_type": "execute_result",
                    "data": {
                        "text/plain": [
                            "((3,), (2, 3))"
                        ]
                    },
                    "metadata": {},
                    "execution_count": 48
                }
            ],
            "metadata": {}
        },
        {
            "cell_type": "code",
            "execution_count": null,
            "source": [
                "# (2, 3)\r\n",
                "# ( , 3)"
            ],
            "outputs": [],
            "metadata": {}
        },
        {
            "cell_type": "code",
            "execution_count": 50,
            "source": [
                "a3*a1"
            ],
            "outputs": [
                {
                    "output_type": "execute_result",
                    "data": {
                        "text/plain": [
                            "array([[[ 1,  4,  9],\n",
                            "        [ 3,  8, 15],\n",
                            "        [ 6, 14, 24]],\n",
                            "\n",
                            "       [[10, 22, 36],\n",
                            "        [13, 28, 45],\n",
                            "        [16, 34, 54]]])"
                        ]
                    },
                    "metadata": {},
                    "execution_count": 50
                }
            ],
            "metadata": {}
        },
        {
            "cell_type": "code",
            "execution_count": 51,
            "source": [
                "a3"
            ],
            "outputs": [
                {
                    "output_type": "execute_result",
                    "data": {
                        "text/plain": [
                            "array([[[ 1,  2,  3],\n",
                            "        [ 3,  4,  5],\n",
                            "        [ 6,  7,  8]],\n",
                            "\n",
                            "       [[10, 11, 12],\n",
                            "        [13, 14, 15],\n",
                            "        [16, 17, 18]]], dtype=int16)"
                        ]
                    },
                    "metadata": {},
                    "execution_count": 51
                }
            ],
            "metadata": {}
        },
        {
            "cell_type": "code",
            "execution_count": 56,
            "source": [
                "a4 = np.ones(shape=(3,3))*2\r\n",
                "a4"
            ],
            "outputs": [
                {
                    "output_type": "execute_result",
                    "data": {
                        "text/plain": [
                            "array([[2., 2., 2.],\n",
                            "       [2., 2., 2.],\n",
                            "       [2., 2., 2.]])"
                        ]
                    },
                    "metadata": {},
                    "execution_count": 56
                }
            ],
            "metadata": {}
        },
        {
            "cell_type": "code",
            "execution_count": 57,
            "source": [
                "a3*a4"
            ],
            "outputs": [
                {
                    "output_type": "execute_result",
                    "data": {
                        "text/plain": [
                            "array([[[ 2.,  4.,  6.],\n",
                            "        [ 6.,  8., 10.],\n",
                            "        [12., 14., 16.]],\n",
                            "\n",
                            "       [[20., 22., 24.],\n",
                            "        [26., 28., 30.],\n",
                            "        [32., 34., 36.]]])"
                        ]
                    },
                    "metadata": {},
                    "execution_count": 57
                }
            ],
            "metadata": {}
        },
        {
            "cell_type": "code",
            "execution_count": 58,
            "source": [
                "a3.shape, a4.shape"
            ],
            "outputs": [
                {
                    "output_type": "execute_result",
                    "data": {
                        "text/plain": [
                            "((2, 3, 3), (3, 3))"
                        ]
                    },
                    "metadata": {},
                    "execution_count": 58
                }
            ],
            "metadata": {}
        },
        {
            "cell_type": "code",
            "execution_count": null,
            "source": [
                "# (2, 3, 3) \r\n",
                "# ( , 3, 3)"
            ],
            "outputs": [],
            "metadata": {}
        },
        {
            "cell_type": "code",
            "execution_count": 61,
            "source": [
                "print(a1)\r\n",
                "print(ones)\r\n",
                "a1/ones"
            ],
            "outputs": [
                {
                    "output_type": "stream",
                    "name": "stdout",
                    "text": [
                        "[1 2 3]\n",
                        "[1. 1. 1.]\n"
                    ]
                },
                {
                    "output_type": "execute_result",
                    "data": {
                        "text/plain": [
                            "array([1., 2., 3.])"
                        ]
                    },
                    "metadata": {},
                    "execution_count": 61
                }
            ],
            "metadata": {}
        },
        {
            "cell_type": "code",
            "execution_count": 64,
            "source": [
                "print(a2)\r\n",
                "print(a1)\r\n",
                "# floor division remove the decimal (rounds down)\r\n",
                "print(a2 / a1)\r\n",
                "print(a2 // a1)"
            ],
            "outputs": [
                {
                    "output_type": "stream",
                    "name": "stdout",
                    "text": [
                        "[[1.8 2.  3.6]\n",
                        " [4.  5.  6.1]]\n",
                        "[1 2 3]\n",
                        "[[1.8        1.         1.2       ]\n",
                        " [4.         2.5        2.03333333]]\n",
                        "[[1. 1. 1.]\n",
                        " [4. 2. 2.]]\n"
                    ]
                }
            ],
            "metadata": {}
        },
        {
            "cell_type": "code",
            "execution_count": 67,
            "source": [
                "print(a1)\r\n",
                "print(a1 ** 2)\r\n",
                "print(np.square(a1))"
            ],
            "outputs": [
                {
                    "output_type": "stream",
                    "name": "stdout",
                    "text": [
                        "[1 2 3]\n",
                        "[1 4 9]\n",
                        "[1 4 9]\n"
                    ]
                }
            ],
            "metadata": {}
        },
        {
            "cell_type": "code",
            "execution_count": 68,
            "source": [
                "np.add(a1, ones)"
            ],
            "outputs": [
                {
                    "output_type": "execute_result",
                    "data": {
                        "text/plain": [
                            "array([2., 3., 4.])"
                        ]
                    },
                    "metadata": {},
                    "execution_count": 68
                }
            ],
            "metadata": {}
        },
        {
            "cell_type": "code",
            "execution_count": 69,
            "source": [
                "a1 % 2"
            ],
            "outputs": [
                {
                    "output_type": "execute_result",
                    "data": {
                        "text/plain": [
                            "array([1, 0, 1], dtype=int32)"
                        ]
                    },
                    "metadata": {},
                    "execution_count": 69
                }
            ],
            "metadata": {}
        },
        {
            "cell_type": "code",
            "execution_count": 70,
            "source": [
                "np.exp(a1)"
            ],
            "outputs": [
                {
                    "output_type": "execute_result",
                    "data": {
                        "text/plain": [
                            "array([ 2.71828183,  7.3890561 , 20.08553692])"
                        ]
                    },
                    "metadata": {},
                    "execution_count": 70
                }
            ],
            "metadata": {}
        },
        {
            "cell_type": "code",
            "execution_count": 71,
            "source": [
                "np.log(a1)"
            ],
            "outputs": [
                {
                    "output_type": "execute_result",
                    "data": {
                        "text/plain": [
                            "array([0.        , 0.69314718, 1.09861229])"
                        ]
                    },
                    "metadata": {},
                    "execution_count": 71
                }
            ],
            "metadata": {}
        },
        {
            "cell_type": "code",
            "execution_count": null,
            "source": [],
            "outputs": [],
            "metadata": {}
        }
    ],
    "metadata": {
        "orig_nbformat": 4,
        "language_info": {
            "name": "python",
            "version": "3.8.5",
            "mimetype": "text/x-python",
            "codemirror_mode": {
                "name": "ipython",
                "version": 3
            },
            "pygments_lexer": "ipython3",
            "nbconvert_exporter": "python",
            "file_extension": ".py"
        },
        "kernelspec": {
            "name": "python3",
            "display_name": "Python 3.8.5 64-bit ('base': conda)"
        },
        "interpreter": {
            "hash": "293c111297a61481508202fcd690d673b0775ece2d2d867b62b8842b676a9a30"
        }
    },
    "nbformat": 4,
    "nbformat_minor": 2
}